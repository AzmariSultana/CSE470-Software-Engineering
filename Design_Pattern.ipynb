{
  "nbformat": 4,
  "nbformat_minor": 0,
  "metadata": {
    "colab": {
      "provenance": [],
      "include_colab_link": true
    },
    "kernelspec": {
      "name": "python3",
      "display_name": "Python 3"
    },
    "language_info": {
      "name": "python"
    }
  },
  "cells": [
    {
      "cell_type": "markdown",
      "metadata": {
        "id": "view-in-github",
        "colab_type": "text"
      },
      "source": [
        "<a href=\"https://colab.research.google.com/github/AzmariSultana/CSE470-Software-Engineering/blob/main/Design_Pattern.ipynb\" target=\"_parent\"><img src=\"https://colab.research.google.com/assets/colab-badge.svg\" alt=\"Open In Colab\"/></a>"
      ]
    },
    {
      "cell_type": "markdown",
      "source": [
        "Let's consider a situation, where you are a pro-level software engineer. Now, you are being hired by Twitter. At this moment, Twitter wants to develop a website where they want to create a small version of YouTube.Now, since it is a small version of YouTube, thus they want you to make sure that it has only one channel which is named \"Twitter\". They want you to ensure that no other channel can be made within this newly developed YouTube Platform. They want you to make sure that the site will be able to notify its users once a video is released. Now, your job is to choose suitable design pattern that can help to develop the software."
      ],
      "metadata": {
        "id": "rjzD6oYbZarp"
      }
    },
    {
      "cell_type": "code",
      "execution_count": null,
      "metadata": {
        "colab": {
          "base_uri": "https://localhost:8080/"
        },
        "id": "2aHNGROFZVWM",
        "outputId": "f3d53f13-d484-4da6-cb8e-088dc97f06d8"
      },
      "outputs": [
        {
          "output_type": "stream",
          "name": "stdout",
          "text": [
            "Channel 'Twitter' created.\n",
            "Are both channels the same? True\n",
            "Alice subscribed to Twitter\n",
            "Bob subscribed to Twitter\n",
            "\n",
            "'Twitter' channel uploaded a new video: How Twitter became YouTube-lite\n",
            "Alice got notified: New video uploaded - How Twitter became YouTube-lite\n",
            "Bob got notified: New video uploaded - How Twitter became YouTube-lite\n",
            "Bob unsubscribed from Twitter\n",
            "\n",
            "'Twitter' channel uploaded a new video: Behind the scenes at Twitter Studios\n",
            "Alice got notified: New video uploaded - Behind the scenes at Twitter Studios\n"
          ]
        }
      ],
      "source": [
        "#Obse\n",
        "class User:\n",
        "    def __init__(self, name):\n",
        "        self.name = name\n",
        "\n",
        "    def notify(self, video_title):\n",
        "        print(f\"{self.name} got notified: New video uploaded - {video_title}\")\n",
        "\n",
        "\n",
        "# Singleton\n",
        "class Channel:\n",
        "    _instance = None\n",
        "\n",
        "    def __new__(cls, name=\"Twitter\"):\n",
        "        if cls._instance is None:\n",
        "            cls._instance = super().__new__(cls)\n",
        "            cls._instance.name = name\n",
        "            cls._instance.subscribers = []\n",
        "            print(f\"Channel '{cls._instance.name}' created.\")\n",
        "        return cls._instance\n",
        "\n",
        "    def subscribe(self, user):\n",
        "        self.subscribers.append(user)\n",
        "        print(f\"{user.name} subscribed to {self.name}\")\n",
        "\n",
        "    def unsubscribe(self, user):\n",
        "        self.subscribers.remove(user)\n",
        "        print(f\"{user.name} unsubscribed from {self.name}\")\n",
        "\n",
        "    def upload_video(self, title):\n",
        "        print(f\"\\n'{self.name}' channel uploaded a new video: {title}\")\n",
        "        self.notify_subscribers(title)\n",
        "\n",
        "    def notify_subscribers(self, title):\n",
        "        for subscriber in self.subscribers:\n",
        "            subscriber.notify(title)\n",
        "# Users\n",
        "alice = User(\"Alice\")\n",
        "bob = User(\"Bob\")\n",
        "\n",
        "# Get the channel instance (singleton)\n",
        "channel1 = Channel()\n",
        "channel2 = Channel(\"FakeChannel\")  # This will still be \"Twitter\"\n",
        "\n",
        "print(f\"Are both channels the same? {channel1 is channel2}\")  # True\n",
        "\n",
        "# Subscriptions\n",
        "channel1.subscribe(alice)\n",
        "channel1.subscribe(bob)\n",
        "\n",
        "# Upload video\n",
        "channel1.upload_video(\"How Twitter became YouTube-lite\")\n",
        "\n",
        "# Unsubscribe\n",
        "channel1.unsubscribe(bob)\n",
        "\n",
        "# Another video\n",
        "channel1.upload_video(\"Behind the scenes at Twitter Studios\")"
      ]
    }
  ]
}