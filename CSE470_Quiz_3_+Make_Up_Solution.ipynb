{
  "nbformat": 4,
  "nbformat_minor": 0,
  "metadata": {
    "colab": {
      "provenance": [],
      "include_colab_link": true
    },
    "kernelspec": {
      "name": "python3",
      "display_name": "Python 3"
    },
    "language_info": {
      "name": "python"
    }
  },
  "cells": [
    {
      "cell_type": "markdown",
      "metadata": {
        "id": "view-in-github",
        "colab_type": "text"
      },
      "source": [
        "<a href=\"https://colab.research.google.com/github/AzmariSultana/CSE470-Software-Engineering/blob/main/CSE470_Quiz_3_%2BMake_Up_Solution.ipynb\" target=\"_parent\"><img src=\"https://colab.research.google.com/assets/colab-badge.svg\" alt=\"Open In Colab\"/></a>"
      ]
    },
    {
      "cell_type": "markdown",
      "source": [
        "## SET-A"
      ],
      "metadata": {
        "id": "mMw2AFhQnyck"
      }
    },
    {
      "cell_type": "code",
      "execution_count": null,
      "metadata": {
        "id": "h_Y_6XJMjUPl"
      },
      "outputs": [],
      "source": [
        "#1. Observer + Singleton\n",
        "#2.\n",
        "class Microwave:\n",
        "    __instance = None\n",
        "    def __new__(cls):\n",
        "        if cls.__instance is None:\n",
        "            cls.__instance = super().__new__(cls)\n",
        "        return cls.__instance\n",
        "\n",
        "    def __init__(self):\n",
        "        self.members = []\n",
        "        self.food_queue = []\n",
        "\n",
        "    def register_member(self, member):\n",
        "        print(f\"{member.name} is registered!\")\n",
        "        self.members.append(member)\n",
        "\n",
        "    def QR(self, member):\n",
        "        if member in self.members:\n",
        "\n",
        "            self.food_queue.append(member)\n",
        "            print(f\"{member.name} is added to the queue!\")\n",
        "        else:\n",
        "            print(f\"{member.name} Unregistered\")\n",
        "\n",
        "    def updateFoodStatus(self):\n",
        "        print(\"Food Update: \")\n",
        "\n",
        "        for member in self.food_queue:\n",
        "            member.statusUpdate(\"Your food is ready!\")\n",
        "        self.food_queue.clear()\n",
        "\n",
        "\n",
        "class User:\n",
        "    def __init__(self, name):\n",
        "        self.name = name\n",
        "        self.oven = Microwave()\n",
        "    def register(self):\n",
        "        self.oven.register_member(self)\n",
        "    def scanQR(self):\n",
        "        self.oven.QR(self)\n",
        "    def statusUpdate(self, status):\n",
        "        print(f\"{self.name}, {status}\")\n",
        "\n",
        "#3. Adapter"
      ]
    },
    {
      "cell_type": "code",
      "source": [
        "oven = Microwave()\n",
        "print(\"=======1=======\")\n",
        "member1 = User(\"Member 1\")\n",
        "member2 = User(\"Member 2\")\n",
        "member3 = User(\"Member 3\")\n",
        "print(\"=======2=======\")\n",
        "member1.register()\n",
        "member2.register()\n",
        "print(\"=======3=======\")\n",
        "member1.scanQR()\n",
        "member2.scanQR()\n",
        "print(\"=======4=======\")\n",
        "member3.scanQR()\n",
        "print(\"=======5=======\")\n",
        "oven.updateFoodStatus()\n",
        "print(\"=======6=======\")\n",
        "member3.register()\n",
        "print(\"=======7=======\")\n",
        "member3.scanQR()\n",
        "print(\"=======8=======\")\n",
        "oven.updateFoodStatus()"
      ],
      "metadata": {
        "colab": {
          "base_uri": "https://localhost:8080/"
        },
        "id": "TEQj_bUMnrkB",
        "outputId": "6db8477f-122e-443e-e3d9-913d15f9c723"
      },
      "execution_count": null,
      "outputs": [
        {
          "output_type": "stream",
          "name": "stdout",
          "text": [
            "=======1=======\n",
            "=======2=======\n",
            "Member 1 is registered!\n",
            "Member 2 is registered!\n",
            "=======3=======\n",
            "Member 1 is added to the queue!\n",
            "Member 2 is added to the queue!\n",
            "=======4=======\n",
            "Member 3 Unregistered\n",
            "=======5=======\n",
            "Food Update: \n",
            "Member 1, Your food is ready!\n",
            "Member 2, Your food is ready!\n",
            "=======6=======\n",
            "Member 3 is registered!\n",
            "=======7=======\n",
            "Member 3 is added to the queue!\n",
            "=======8=======\n",
            "Food Update: \n",
            "Member 3, Your food is ready!\n"
          ]
        }
      ]
    },
    {
      "cell_type": "markdown",
      "source": [
        "## SET-B"
      ],
      "metadata": {
        "id": "izw4Zn7H4Cvf"
      }
    },
    {
      "cell_type": "code",
      "source": [
        "#1. Adapter + Singleton\n",
        "\n",
        "#2.\n",
        "class GlobalMicrowave:\n",
        "    def bbq(self):\n",
        "        pass\n",
        "    def toast(self):\n",
        "        pass\n",
        "\n",
        "class LocalMicrowave:\n",
        "    def insertFood(self):\n",
        "        print(\"Food is inserted!\")\n",
        "    def toast(self):\n",
        "        self.insertFood()\n",
        "        print(\"Toasting!\")\n",
        "    def heat(self):\n",
        "        self.insertFood()\n",
        "        print(\"Heating!\")\n",
        "    def grill(self):\n",
        "        self.insertFood()\n",
        "        print(\"Grilling!\")\n",
        "\n",
        "class NewMicrowave(GlobalMicrowave, LocalMicrowave):\n",
        "    __instance = None\n",
        "    def __new__(cls):\n",
        "        if cls.__instance is None:\n",
        "            cls.__instance = super().__new__(cls)\n",
        "        return cls.__instance\n",
        "    def bbq(self):\n",
        "        self.grill()\n",
        "    def toast(self):\n",
        "        self.insertFood()\n",
        "        print(\"Toasting!\")\n",
        "\n",
        "#3. Observer"
      ],
      "metadata": {
        "id": "X2WpKN0R3434"
      },
      "execution_count": null,
      "outputs": []
    },
    {
      "cell_type": "code",
      "source": [
        "local = LocalMicrowave()\n",
        "print(\"=======1=======\")\n",
        "local.insertFood()\n",
        "print(\"=======2=======\")\n",
        "local.toast()\n",
        "print(\"=======3=======\")\n",
        "local.heat()\n",
        "print(\"=======4=======\")\n",
        "local.grill()\n",
        "print(\"=======5=======\")\n",
        "newOven = NewMicrowave()\n",
        "print(\"=======6=======\")\n",
        "newOven.insertFood()\n",
        "print(\"=======7=======\")\n",
        "newOven.bbq()\n",
        "print(\"=======8=======\")\n",
        "newOven.toast()\n",
        "print(\"=======9=======\")\n",
        "newOven.heat()\n"
      ],
      "metadata": {
        "colab": {
          "base_uri": "https://localhost:8080/"
        },
        "id": "PLGVYGZs40ef",
        "outputId": "92f75188-b919-4407-d0da-a38c0d10ea75"
      },
      "execution_count": null,
      "outputs": [
        {
          "output_type": "stream",
          "name": "stdout",
          "text": [
            "=======1=======\n",
            "Food is inserted!\n",
            "=======2=======\n",
            "Food is inserted!\n",
            "Toasting!\n",
            "=======3=======\n",
            "Food is inserted!\n",
            "Heating!\n",
            "=======4=======\n",
            "Food is inserted!\n",
            "Grilling!\n",
            "=======5=======\n",
            "=======6=======\n",
            "Food is inserted!\n",
            "=======7=======\n",
            "Food is inserted!\n",
            "Grilling!\n",
            "=======8=======\n",
            "Food is inserted!\n",
            "Toasting!\n",
            "=======9=======\n",
            "Food is inserted!\n",
            "Heating!\n"
          ]
        }
      ]
    },
    {
      "cell_type": "markdown",
      "source": [
        "Let’s consider a situation, where you are a pro-level software engineer. Now, you are being hired by Twitter. At this moment, Twitter wants to develop a website where they want to create a small version of YouTube. However, it can have multiple channels like normal YouTube. Now, the new version of your developed YouTube will have to have a channel named Twitter. That will post similar videos, reels/shorts like Linux-Tech-Tips. Also, users will get notified for the newly uploaded videos. Now, your job is to choose suitable design pattern that can help to develop the software. [8]"
      ],
      "metadata": {
        "id": "c7ePAfswx0D3"
      }
    },
    {
      "cell_type": "code",
      "source": [],
      "metadata": {
        "id": "m4raMJOGx02e"
      },
      "execution_count": null,
      "outputs": []
    },
    {
      "cell_type": "markdown",
      "source": [
        "## Makeup Quiz Set B\n",
        "Imagine you are making a local video streaming service like youtube. When you created the LocalVideoPlayer, it could not stream video as efficiently as Youtube does. Mainly because you have used localDataStream() in your system and Youtube is using universalDataStream(). Now you want to make an updated platform BetterLocalVideoPlayer that follows the youtube data streaming standards while implementing the previous methods. You also need to make sure people cannot copy your service just like you copied Youtube. Then you want users to be able to signup in the newly created player. Once they have completed the signup, they can subscribe to the channel. For simplicity you can assume there will only be one channel in this player. The driver code is given below for your reference."
      ],
      "metadata": {
        "id": "sJKmYsQi79O8"
      }
    },
    {
      "cell_type": "code",
      "source": [
        "class Youtube:\n",
        "    def universalDataStream(self):\n",
        "        pass\n",
        "\n",
        "class LocalVideoPlayer:\n",
        "    def localDataStream(self):\n",
        "        print(\"Streaming Video\")\n",
        "\n",
        "class BetterLocalVideoPlayer(Youtube, LocalVideoPlayer):\n",
        "    __instance = None\n",
        "    def __new__(cls):\n",
        "        if cls.__instance is None:\n",
        "            cls.__instance = super().__new__(cls)\n",
        "        return cls.__instance\n",
        "    def __init__(self):\n",
        "        self.users=[]\n",
        "        self.channel=[]\n",
        "    def signup(self,user):\n",
        "        self.users.append(user)\n",
        "\n",
        "    def deleteAccount(self,user):\n",
        "        self.channel.remove(user)\n",
        "        self.users.remove(user)\n",
        "    def subscribe(self, user):\n",
        "        if user not in self.users:\n",
        "            print(\"User didnot signup\")\n",
        "        else:\n",
        "            self.channel.append(user)\n",
        "            print(f\"{user.name} has subscribed to Channel A\")\n",
        "\n",
        "\n",
        "    def unsubscribe(self, user):\n",
        "        self.channel.remove(user)\n",
        "        print(f\"{user.name} has unsubscribed to Channel A\")\n",
        "\n",
        "    def notifyChannelASubs(self):\n",
        "        for user in self.channel:\n",
        "            user.getUpdate(\"New Video Uploaded to Channel A\")\n",
        "\n",
        "    def uploadNewVideo(self):\n",
        "        self.notifyChannelASubs()\n",
        "\n",
        "    def universalDataStream(self):\n",
        "        self.localDataStream()\n",
        "\n",
        "class User:\n",
        "    def __init__(self, name):\n",
        "        self.name = name\n",
        "        self.player = BetterLocalVideoPlayer()\n",
        "    def signup(self):\n",
        "        self.player.signup(self)\n",
        "    def subscribe(self):\n",
        "        self.player.subscribe(self)\n",
        "    def unsubscribe(self):\n",
        "        self.player.unsubscribe(self)\n",
        "    def deleteAccount(self):\n",
        "        self.player.deleteAccount(self)\n",
        "    def getUpdate(self, text):\n",
        "        print(f\"Notification ({self.name}): {text}\")\n"
      ],
      "metadata": {
        "id": "SjeupOvS8A8k"
      },
      "execution_count": null,
      "outputs": []
    },
    {
      "cell_type": "code",
      "source": [
        "newPlayer = BetterLocalVideoPlayer()\n",
        "print(\"=====1=====\")\n",
        "user1 = User(\"User 1\")\n",
        "user2 = User(\"User 2\")\n",
        "print(\"=====2=====\")\n",
        "user1.subscribe()\n",
        "print(\"=====3=====\")\n",
        "user1.signup()\n",
        "print(\"=====4=====\")\n",
        "user1.subscribe()\n",
        "print(\"=====5=====\")\n",
        "user2.signup()\n",
        "print(\"=====6=====\")\n",
        "newPlayer.uploadNewVideo()\n",
        "print(\"=====7=====\")\n",
        "newPlayer.universalDataStream()\n",
        "print(\"=====8=====\")\n",
        "user1.deleteAccount()\n",
        "print(\"=====9=====\")\n",
        "newPlayer.uploadNewVideo()\n",
        "print(\"=====10=====\")\n",
        "user2.subscribe()\n",
        "print(\"=====11=====\")\n",
        "newPlayer.uploadNewVideo()\n",
        "print(\"=====12=====\")\n",
        "user2.unsubscribe()\n",
        "print(\"=====13=====\")\n",
        "newPlayer.uploadNewVideo()\n"
      ],
      "metadata": {
        "id": "M8UjyxcQ8Mez"
      },
      "execution_count": null,
      "outputs": []
    }
  ]
}