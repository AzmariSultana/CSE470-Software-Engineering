{
  "nbformat": 4,
  "nbformat_minor": 0,
  "metadata": {
    "colab": {
      "provenance": [],
      "include_colab_link": true
    },
    "kernelspec": {
      "name": "python3",
      "display_name": "Python 3"
    },
    "language_info": {
      "name": "python"
    }
  },
  "cells": [
    {
      "cell_type": "markdown",
      "metadata": {
        "id": "view-in-github",
        "colab_type": "text"
      },
      "source": [
        "<a href=\"https://colab.research.google.com/github/AzmariSultana/CSE470-Software-Engineering/blob/main/CSE470_Quiz_3_(ART)_Solution.ipynb\" target=\"_parent\"><img src=\"https://colab.research.google.com/assets/colab-badge.svg\" alt=\"Open In Colab\"/></a>"
      ]
    },
    {
      "cell_type": "markdown",
      "source": [
        "## SET-A\n"
      ],
      "metadata": {
        "id": "mMw2AFhQnyck"
      }
    },
    {
      "cell_type": "markdown",
      "source": [
        "You have recently joined Blunt Electronics in the Microwave Oven division. They are trying to come with a new smart lineup of microwaves to beat the competition. This smart oven connects to an app that lets the family register their members. Then when the registered members use the oven, it generates a QR code that can be scanned by the app. When a registered member scans the app, the oven will send them a notification once the food is ready. The QR code can be scanned by multiple registered users, in which case all of those users will get the notification. But you need to make sure one member does not get notifications about orders that they did not scan for. Also there should be no possibilities of data inconsistencies.\n",
        "(Hint: to make a python list empty you can use the list.clear() method.)"
      ],
      "metadata": {
        "id": "cQ55Hg07FsEu"
      }
    },
    {
      "cell_type": "code",
      "execution_count": null,
      "metadata": {
        "id": "h_Y_6XJMjUPl"
      },
      "outputs": [],
      "source": [
        "#1. Observer + Singleton\n",
        "#2.\n",
        "class Microwave:\n",
        "    __instance = None\n",
        "    def __new__(cls):\n",
        "        if cls.__instance is None:\n",
        "            cls.__instance = super().__new__(cls)\n",
        "        return cls.__instance\n",
        "\n",
        "    def __init__(self):\n",
        "        self.members = []\n",
        "        self.food_queue = []\n",
        "\n",
        "    def register_member(self, member):\n",
        "        print(f\"{member.name} is registered!\")\n",
        "        self.members.append(member)\n",
        "\n",
        "    def QR(self, member):\n",
        "        if member in self.members:\n",
        "\n",
        "            self.food_queue.append(member)\n",
        "            print(f\"{member.name} is added to the queue!\")\n",
        "        else:\n",
        "            print(f\"{member.name} Unregistered\")\n",
        "\n",
        "    def updateFoodStatus(self):\n",
        "        print(\"Food Update: \")\n",
        "\n",
        "        for member in self.food_queue:\n",
        "            member.statusUpdate(\"Your food is ready!\")\n",
        "        self.food_queue.clear()\n",
        "\n",
        "\n",
        "class User:\n",
        "    def __init__(self, name):\n",
        "        self.name = name\n",
        "        self.oven = Microwave()\n",
        "    def register(self):\n",
        "        self.oven.register_member(self)\n",
        "    def scanQR(self):\n",
        "        self.oven.QR(self)\n",
        "    def statusUpdate(self, status):\n",
        "        print(f\"{self.name}, {status}\")\n",
        "\n",
        "#3. Adapter"
      ]
    },
    {
      "cell_type": "code",
      "source": [
        "oven = Microwave()\n",
        "print(\"=======1=======\")\n",
        "member1 = User(\"Member 1\")\n",
        "member2 = User(\"Member 2\")\n",
        "member3 = User(\"Member 3\")\n",
        "print(\"=======2=======\")\n",
        "member1.register()\n",
        "member2.register()\n",
        "print(\"=======3=======\")\n",
        "member1.scanQR()\n",
        "member2.scanQR()\n",
        "print(\"=======4=======\")\n",
        "member3.scanQR()\n",
        "print(\"=======5=======\")\n",
        "oven.updateFoodStatus()\n",
        "print(\"=======6=======\")\n",
        "member3.register()\n",
        "print(\"=======7=======\")\n",
        "member3.scanQR()\n",
        "print(\"=======8=======\")\n",
        "oven.updateFoodStatus()"
      ],
      "metadata": {
        "colab": {
          "base_uri": "https://localhost:8080/"
        },
        "id": "TEQj_bUMnrkB",
        "outputId": "6db8477f-122e-443e-e3d9-913d15f9c723"
      },
      "execution_count": null,
      "outputs": [
        {
          "output_type": "stream",
          "name": "stdout",
          "text": [
            "=======1=======\n",
            "=======2=======\n",
            "Member 1 is registered!\n",
            "Member 2 is registered!\n",
            "=======3=======\n",
            "Member 1 is added to the queue!\n",
            "Member 2 is added to the queue!\n",
            "=======4=======\n",
            "Member 3 Unregistered\n",
            "=======5=======\n",
            "Food Update: \n",
            "Member 1, Your food is ready!\n",
            "Member 2, Your food is ready!\n",
            "=======6=======\n",
            "Member 3 is registered!\n",
            "=======7=======\n",
            "Member 3 is added to the queue!\n",
            "=======8=======\n",
            "Food Update: \n",
            "Member 3, Your food is ready!\n"
          ]
        }
      ]
    },
    {
      "cell_type": "markdown",
      "source": [
        "## SET-B"
      ],
      "metadata": {
        "id": "izw4Zn7H4Cvf"
      }
    },
    {
      "cell_type": "markdown",
      "source": [
        "You have recently joined a local electronics company in the Microwave Oven division. They have a lineup of smart ovens. These smart ovens offer the following features: insertFood, toast, heat and grill. Now they want to export their products globally and are now required to follow global heating standards in their ovens. According to the World Oven Association (WOA), each of the export quality ovens must have these two functionalities: BBQ and Toast. Also the updated oven should have data consistency features built-in for future needs. Now it is your responsibility to make a product that matches the international standards.\n"
      ],
      "metadata": {
        "id": "SSMkOqw8F2_y"
      }
    },
    {
      "cell_type": "code",
      "source": [
        "#1. Adapter + Singleton\n",
        "\n",
        "#2.\n",
        "class GlobalMicrowave:\n",
        "    def bbq(self):\n",
        "        pass\n",
        "    def toast(self):\n",
        "        pass\n",
        "\n",
        "class LocalMicrowave:\n",
        "    def insertFood(self):\n",
        "        print(\"Food is inserted!\")\n",
        "    def toast(self):\n",
        "        self.insertFood()\n",
        "        print(\"Toasting!\")\n",
        "    def heat(self):\n",
        "        self.insertFood()\n",
        "        print(\"Heating!\")\n",
        "    def grill(self):\n",
        "        self.insertFood()\n",
        "        print(\"Grilling!\")\n",
        "\n",
        "class NewMicrowave(GlobalMicrowave, LocalMicrowave):\n",
        "    __instance = None\n",
        "    def __new__(cls):\n",
        "        if cls.__instance is None:\n",
        "            cls.__instance = super().__new__(cls)\n",
        "        return cls.__instance\n",
        "    def bbq(self):\n",
        "        self.grill()\n",
        "    def toast(self):\n",
        "        self.insertFood()\n",
        "        print(\"Toasting!\")\n",
        "\n",
        "#3. Observer"
      ],
      "metadata": {
        "id": "X2WpKN0R3434"
      },
      "execution_count": null,
      "outputs": []
    },
    {
      "cell_type": "code",
      "source": [
        "local = LocalMicrowave()\n",
        "print(\"=======1=======\")\n",
        "local.insertFood()\n",
        "print(\"=======2=======\")\n",
        "local.toast()\n",
        "print(\"=======3=======\")\n",
        "local.heat()\n",
        "print(\"=======4=======\")\n",
        "local.grill()\n",
        "print(\"=======5=======\")\n",
        "newOven = NewMicrowave()\n",
        "print(\"=======6=======\")\n",
        "newOven.insertFood()\n",
        "print(\"=======7=======\")\n",
        "newOven.bbq()\n",
        "print(\"=======8=======\")\n",
        "newOven.toast()\n",
        "print(\"=======9=======\")\n",
        "newOven.heat()\n"
      ],
      "metadata": {
        "colab": {
          "base_uri": "https://localhost:8080/"
        },
        "id": "PLGVYGZs40ef",
        "outputId": "92f75188-b919-4407-d0da-a38c0d10ea75"
      },
      "execution_count": null,
      "outputs": [
        {
          "output_type": "stream",
          "name": "stdout",
          "text": [
            "=======1=======\n",
            "Food is inserted!\n",
            "=======2=======\n",
            "Food is inserted!\n",
            "Toasting!\n",
            "=======3=======\n",
            "Food is inserted!\n",
            "Heating!\n",
            "=======4=======\n",
            "Food is inserted!\n",
            "Grilling!\n",
            "=======5=======\n",
            "=======6=======\n",
            "Food is inserted!\n",
            "=======7=======\n",
            "Food is inserted!\n",
            "Grilling!\n",
            "=======8=======\n",
            "Food is inserted!\n",
            "Toasting!\n",
            "=======9=======\n",
            "Food is inserted!\n",
            "Heating!\n"
          ]
        }
      ]
    }
  ]
}