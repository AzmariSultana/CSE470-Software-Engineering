{
  "nbformat": 4,
  "nbformat_minor": 0,
  "metadata": {
    "colab": {
      "provenance": [],
      "include_colab_link": true
    },
    "kernelspec": {
      "name": "python3",
      "display_name": "Python 3"
    },
    "language_info": {
      "name": "python"
    }
  },
  "cells": [
    {
      "cell_type": "markdown",
      "metadata": {
        "id": "view-in-github",
        "colab_type": "text"
      },
      "source": [
        "<a href=\"https://colab.research.google.com/github/AzmariSultana/CSE470-Software-Engineering/blob/main/Design_Pattern.ipynb\" target=\"_parent\"><img src=\"https://colab.research.google.com/assets/colab-badge.svg\" alt=\"Open In Colab\"/></a>"
      ]
    },
    {
      "cell_type": "markdown",
      "source": [
        "##Question01\n",
        "\n",
        "Let's consider a situation, where you are a pro-level software engineer. Now, you are being hired by Twitter. At this moment, Twitter wants to develop a website where they want to create a small version of YouTube.Now, since it is a small version of YouTube, thus they want you to make sure that it has only one channel which is named \"Twitter\". They want you to ensure that no other channel can be made within this newly developed YouTube Platform. They want you to make sure that the site will be able to notify its users once a video is released. Now, your job is to choose suitable design pattern that can help to develop the software."
      ],
      "metadata": {
        "id": "rjzD6oYbZarp"
      }
    },
    {
      "cell_type": "code",
      "execution_count": null,
      "metadata": {
        "colab": {
          "base_uri": "https://localhost:8080/"
        },
        "id": "2aHNGROFZVWM",
        "outputId": "8f3007af-124f-4b10-d459-2fc60cdd1a05"
      },
      "outputs": [
        {
          "output_type": "stream",
          "name": "stdout",
          "text": [
            "hey Ching Chong, your subscribe channel Twitter uploaded new video\n",
            "Video Name New Video 1\n",
            "hey Ching Chong, your subscribe channel Twitter uploaded new video\n",
            "Video Name New Video 2\n",
            "hey Ching Chong, your subscribe channel Twitter uploaded new video\n",
            "Video Name New Video 4\n",
            "hey Ching Chong, your subscribe channel Twitter uploaded new video\n",
            "Video Name New Video 6\n",
            "<__main__.Youtube object at 0x7a601e156180>\n"
          ]
        }
      ],
      "source": [
        "# Singleton\n",
        "class Youtube:\n",
        "    _instance = None\n",
        "    videos = []\n",
        "\n",
        "    def __new__(cls):\n",
        "        if cls._instance is None:\n",
        "            cls._instance = super(Youtube, cls).__new__(cls)\n",
        "            cls._instance._initialized = False\n",
        "        return cls._instance\n",
        "\n",
        "    def __init__(self):\n",
        "        if not self._initialized:\n",
        "            self.subscribers_list = []\n",
        "            self.channel_name = \"Twitter\"\n",
        "            self._initialized = True\n",
        "\n",
        "    def subscribe(self, subscriber):\n",
        "        self.subscribers_list.append(subscriber)\n",
        "        subscriber.channel = self\n",
        "\n",
        "    def notification(self):\n",
        "        for subscriber in self.subscribers_list:\n",
        "            subscriber.update(self)\n",
        "\n",
        "    def content_upload(self, content):\n",
        "        Youtube.videos.append(content)\n",
        "        self.notification()\n",
        "\n",
        "    @staticmethod\n",
        "    def provide_object():\n",
        "        return Youtube()\n",
        "\n",
        "\n",
        "class Subscriber:\n",
        "    def __init__(self, user_name):\n",
        "        self.user_name = user_name\n",
        "        self.channel = None\n",
        "\n",
        "    def update(self, channel):\n",
        "        print(f\"hey {self.user_name}, your subscribe channel {channel.channel_name} uploaded new video\")\n",
        "        if Youtube.videos:\n",
        "            print(\"Video Name \" + Youtube.videos[-1])\n",
        "\n",
        "    def subscribe_twitter(self):\n",
        "        channel = Youtube.provide_object()\n",
        "        channel.subscribe(self)\n",
        "\n",
        "\n",
        "# Driver Code\n",
        "subscriber1 = Subscriber(\"Ching Chong\")\n",
        "subscriber1.subscribe_twitter()\n",
        "\n",
        "twitter = Youtube.provide_object()\n",
        "twitter.content_upload(\"New Video 1\")\n",
        "twitter.content_upload(\"New Video 2\")\n",
        "twitter.content_upload(\"New Video 4\")\n",
        "twitter.content_upload(\"New Video 6\")\n",
        "\n",
        "print(twitter)"
      ]
    },
    {
      "cell_type": "markdown",
      "source": [
        "##Question02\n",
        "\n",
        "Let's consider a situation, where you are a pro-level software engineer. Now, you are being hired by Twitter. At this moment, Twitter wants to develop a website where they want to create a small version of YouTube. However, it can have multiple channels like normal YouTube. Now, the new version of your developed YouTube will have to have a channel named Twitter. That will post similar videos, reels/shorts like Linus-Tech-Tips. Also, users will get notified for the newly uploaded videos. Now, your job is to choose suitable design pattern that can help to develop the software."
      ],
      "metadata": {
        "id": "m-Yiw3WuJrG0"
      }
    },
    {
      "cell_type": "code",
      "source": [
        "from abc import ABC, abstractmethod\n",
        "\n",
        "# Interface\n",
        "class ChannelInterface(ABC):\n",
        "    @abstractmethod\n",
        "    def upload_content(self, content_name: str):\n",
        "        pass\n",
        "\n",
        "# Third-party or base class\n",
        "class LinusChannel:\n",
        "    def post_funny_video(self):\n",
        "        print(\"Linus channel video uploaded on Nvidia GPU\")\n",
        "\n",
        "# Observer: Subscriber class\n",
        "class Subscriber:\n",
        "    def __init__(self, username):\n",
        "        self.username = username\n",
        "        self.channel = None\n",
        "\n",
        "    def update(self, channel):\n",
        "        print(f\"Hey {self.username}, your subscribed channel '{channel.channel_name}' uploaded a new video!\")\n",
        "        if channel.videos:\n",
        "            print(\"Video Name:\", channel.videos[-1])  # latest video only\n",
        "\n",
        "    def subscribe_twitter(self):\n",
        "        channel = Youtube.provide_object()\n",
        "        channel.subscribe(self)\n",
        "\n",
        "# Adapter + Subject: Youtube class\n",
        "class Youtube(LinusChannel, ChannelInterface):\n",
        "    _instance = None  # for singleton behavior\n",
        "\n",
        "    def __init__(self, channel_name):\n",
        "        super().__init__()\n",
        "        self.channel_name = channel_name\n",
        "        self.subscribers_list = []\n",
        "        self.videos = []\n",
        "\n",
        "    def subscribe(self, subscriber: Subscriber):\n",
        "        self.subscribers_list.append(subscriber)\n",
        "        subscriber.channel = self\n",
        "\n",
        "    def notify(self):\n",
        "        for sub in self.subscribers_list:\n",
        "            sub.update(self)\n",
        "\n",
        "    def upload_content(self, content_name: str):\n",
        "        super().post_funny_video()  # from LinusChannel\n",
        "        self.videos.append(content_name)\n",
        "        self.notify()\n",
        "\n",
        "    @staticmethod\n",
        "    def provide_object():\n",
        "        if Youtube._instance is None:\n",
        "            Youtube._instance = Youtube(\"Twitter\")\n",
        "        return Youtube._instance\n",
        "\n",
        "# Driver Code\n",
        "subscriber1 = Subscriber(\"Ching Chong\")\n",
        "subscriber1.subscribe_twitter()\n",
        "\n",
        "twitter_channel = Youtube.provide_object()\n",
        "twitter_channel.upload_content(\"New Video 1\")\n",
        "twitter_channel.upload_content(\"New Video 2\")\n",
        "twitter_channel.upload_content(\"New Video 4\")\n",
        "twitter_channel.upload_content(\"New Video 6\")\n",
        "\n",
        "print(f\"\\nVideos on channel '{twitter_channel.channel_name}': {twitter_channel.videos}\")"
      ],
      "metadata": {
        "colab": {
          "base_uri": "https://localhost:8080/"
        },
        "id": "gMWivUybJuLt",
        "outputId": "211c3506-2cf1-4176-eed9-28c997c566f8"
      },
      "execution_count": null,
      "outputs": [
        {
          "output_type": "stream",
          "name": "stdout",
          "text": [
            "Linus channel video uploaded on Nvidia GPU\n",
            "Hey Ching Chong, your subscribed channel 'Twitter' uploaded a new video!\n",
            "Video Name: New Video 1\n",
            "Linus channel video uploaded on Nvidia GPU\n",
            "Hey Ching Chong, your subscribed channel 'Twitter' uploaded a new video!\n",
            "Video Name: New Video 2\n",
            "Linus channel video uploaded on Nvidia GPU\n",
            "Hey Ching Chong, your subscribed channel 'Twitter' uploaded a new video!\n",
            "Video Name: New Video 4\n",
            "Linus channel video uploaded on Nvidia GPU\n",
            "Hey Ching Chong, your subscribed channel 'Twitter' uploaded a new video!\n",
            "Video Name: New Video 6\n",
            "\n",
            "Videos on channel 'Twitter': ['New Video 1', 'New Video 2', 'New Video 4', 'New Video 6']\n"
          ]
        }
      ]
    },
    {
      "cell_type": "markdown",
      "source": [
        "##Question03\n",
        "\n",
        "Let’s consider a situation where you want to develop software called WECHAT that will have a chatting option like Messenger, news feed, and friends group option like Facebook and a streaming option like Twitch. Now, in order to complete the process, you also hired some new people who can work with you in this project. You want to make sure that there will be only one Application that can solve the problem of All the mentioned Applications. Now, for Facebook, you can implement the feature called newsfeed and groups. For Messenger, you can only implement the feature of Chatting. In addition, for Twitch you can develop feature like video streaming. Now, your job is to choose suitable design patterns that can help to develop the software.\n",
        "\n",
        "```\n",
        "# Driver Code\n",
        "weChat =WECHAT. getInstance( );\n",
        "weChat.streamingVideo( );\n",
        "weChat2 =WECHAT. getInstance( ) ;\n",
        "weChat.sendMessage( );\n",
        "weChat.createFriendsGroup( );\n",
        "weChat2.useNewsFeed( );\n",
        "print(weChat);\n",
        "print(weChat2);\n",
        "```"
      ],
      "metadata": {
        "id": "91c5DsaYMPQ3"
      }
    },
    {
      "cell_type": "code",
      "source": [
        "# Subsystems: Facebook, Messenger, Twitch\n",
        "class Facebook:\n",
        "    def create_friends_group(self):\n",
        "        print(\"Welcome to the group\")\n",
        "\n",
        "    def use_news_feed(self):\n",
        "        print(\"Scroll through news feed\")\n",
        "\n",
        "\n",
        "class Messenger:\n",
        "    def send_message(self):\n",
        "        print(\"Let's Message each other\")\n",
        "\n",
        "\n",
        "class Twitch:\n",
        "    def streaming_video(self):\n",
        "        print(\"Videos from twitch\")\n",
        "\n",
        "\n",
        "# Singleton\n",
        "class Singleton:\n",
        "    _instance = None\n",
        "\n",
        "    def __new__(cls):\n",
        "        if cls._instance is None:\n",
        "            cls._instance = super().__new__(cls)\n",
        "        return cls._instance\n",
        "\n",
        "# WECHAT class using Singleton + Adapters\n",
        "class WECHAT(Singleton):\n",
        "    def __init__(self):\n",
        "        if not hasattr(self, 'initialized'):\n",
        "            self.facebook = Facebook()\n",
        "            self.messenger = Messenger()\n",
        "            self.twitch = Twitch()\n",
        "            self.initialized = True\n",
        "\n",
        "    @staticmethod\n",
        "    def getInstance():\n",
        "        return WECHAT()\n",
        "\n",
        "    def sendMessage(self):\n",
        "        print(\"We chat has its own message to send\")\n",
        "        self.messenger.send_message()\n",
        "\n",
        "    def useNewsFeed(self):\n",
        "        print(\"Let's use the NewsFeed\")\n",
        "        self.facebook.use_news_feed()\n",
        "\n",
        "    def streamingVideo(self):\n",
        "        print(\"Let's stream videos\")\n",
        "        self.twitch.streaming_video()\n",
        "\n",
        "    def createFriendsGroup(self):\n",
        "        print(\"Let's create friends group\")\n",
        "        self.facebook.create_friends_group()\n",
        "\n",
        "# Driver Code\n",
        "weChat = WECHAT.getInstance()\n",
        "weChat.streamingVideo()\n",
        "\n",
        "weChat2 = WECHAT.getInstance()\n",
        "weChat.sendMessage()\n",
        "weChat.createFriendsGroup()\n",
        "weChat2.useNewsFeed()\n",
        "\n",
        "print(weChat)\n",
        "print(weChat2)"
      ],
      "metadata": {
        "colab": {
          "base_uri": "https://localhost:8080/"
        },
        "id": "m9GThm3CMYyQ",
        "outputId": "02b1ac1b-55a9-40af-8715-f8a4bd4b7e5c"
      },
      "execution_count": null,
      "outputs": [
        {
          "output_type": "stream",
          "name": "stdout",
          "text": [
            "Let's stream videos\n",
            "Videos from twitch\n",
            "We chat has its own message to send\n",
            "Let's Message each other\n",
            "Let's create friends group\n",
            "Welcome to the group\n",
            "Let's use the NewsFeed\n",
            "Scroll through news feed\n",
            "<__main__.WECHAT object at 0x7a601d35b9e0>\n",
            "<__main__.WECHAT object at 0x7a601d35b9e0>\n"
          ]
        }
      ]
    },
    {
      "cell_type": "markdown",
      "source": [
        "##Question 4\n",
        "\n",
        "In Tech-Park, \"Magic Sweets\" was famous for its magical cakes, crafted solely by Mr. Shaheed, the master baker. His secret was consistency each cake tasted exactly like the first, and only he was allowed to make them to maintain this perfect standard. When Jamie, a new baker, suggested allowing others to help increase production, Mr. Shaheed explained, \"Our success comes from having one source the master baker-ensuring every cake is consistently perfect, just like the first.\" Inspired, Jamie applied this idea to their software system by implementing a design pattern for configuration settings. Just as Mr.Shaheed's approach kept the cakes consistent, the design pattern ensured the class maintained stable and controlled settings."
      ],
      "metadata": {
        "id": "YYXy8Jv5O2QH"
      }
    },
    {
      "cell_type": "code",
      "source": [
        "class MagicalCake:\n",
        "    __instance = None\n",
        "\n",
        "    def __new__(cls):\n",
        "        if cls.__instance is None:\n",
        "            cls.__instance = super().__new__(cls)\n",
        "        return cls.__instance\n",
        "\n",
        "    @staticmethod\n",
        "    def prepareMagicalCake():\n",
        "        return MagicalCake()\n",
        "\n",
        "\n",
        "# Driver Code\n",
        "cake1 = MagicalCake.prepareMagicalCake()\n",
        "cake2 = MagicalCake.prepareMagicalCake()\n",
        "cake4 = MagicalCake.prepareMagicalCake()\n",
        "cake6 = MagicalCake.prepareMagicalCake()\n",
        "\n",
        "print(cake1)\n",
        "print(cake2)\n",
        "print(cake4)\n",
        "print(cake6)"
      ],
      "metadata": {
        "colab": {
          "base_uri": "https://localhost:8080/"
        },
        "id": "wJh42-6FO75T",
        "outputId": "fe5053fd-c576-4d55-cd6d-689d2a15f11e"
      },
      "execution_count": null,
      "outputs": [
        {
          "output_type": "stream",
          "name": "stdout",
          "text": [
            "<__main__.MagicalCake object at 0x7a601e156000>\n",
            "<__main__.MagicalCake object at 0x7a601e156000>\n",
            "<__main__.MagicalCake object at 0x7a601e156000>\n",
            "<__main__.MagicalCake object at 0x7a601e156000>\n"
          ]
        }
      ]
    }
  ]
}