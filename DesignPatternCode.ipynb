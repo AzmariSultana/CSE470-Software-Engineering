{
  "nbformat": 4,
  "nbformat_minor": 0,
  "metadata": {
    "colab": {
      "provenance": [],
      "gpuType": "T4",
      "include_colab_link": true
    },
    "kernelspec": {
      "name": "python3",
      "display_name": "Python 3"
    },
    "language_info": {
      "name": "python"
    }
  },
  "cells": [
    {
      "cell_type": "markdown",
      "metadata": {
        "id": "view-in-github",
        "colab_type": "text"
      },
      "source": [
        "<a href=\"https://colab.research.google.com/github/AzmariSultana/CSE470-Software-Engineering/blob/main/DesignPatternCode.ipynb\" target=\"_parent\"><img src=\"https://colab.research.google.com/assets/colab-badge.svg\" alt=\"Open In Colab\"/></a>"
      ]
    },
    {
      "cell_type": "markdown",
      "source": [
        "Let's consider a situation, where you are a pro-level software engineer. Now, you are being hired by Twitter. At this moment, Twitter wants to develop a website where they want to create a small version of YouTube.Now, since it is a small version of YouTube, thus they want you to make sure that it has only one channel which is named “Twitter”. They want you to ensure that no other channel can be made within this newly developed YouTube Platform. They want you to make sure that the site will be able to notify its users once a video is released.  Now, your job is to choose suitable design pattern that can help to develop the software.\n",
        "\n"
      ],
      "metadata": {
        "id": "qcgxJHQO1Olq"
      }
    },
    {
      "cell_type": "code",
      "source": [
        "class Youtube:\n",
        "    __instance = None\n",
        "    __channelName = \"Twitter\" # Java \"final\" equivalent python keyword can be used\n",
        "\n",
        "    def __init__(self):\n",
        "        self.__subscribersList = []\n",
        "        self.__videos = []\n",
        "\n",
        "    def __new__(cls, *args, **kwargs):\n",
        "        if cls.__instance is None:  # ensures only one object exists (singleton)\n",
        "            cls.__instance = super(Youtube, cls).__new__(cls)\n",
        "        return cls.__instance\n",
        "\n",
        "    @classmethod\n",
        "    def getChannelName(cls):\n",
        "        return cls.__channelName\n",
        "\n",
        "    def getVideos(self):\n",
        "        return self.__videos\n",
        "\n",
        "    def add_subscriber(self, subscriber_obj):\n",
        "        self.__subscribersList.append(subscriber_obj)\n",
        "\n",
        "    def remove_subscriber(self, subscriber_obj):\n",
        "      if subscriber_obj in self.__subscribersList:\n",
        "        self.__subscribersList.remove(subscriber_obj)\n",
        "\n",
        "    def notification(self):\n",
        "        for sub in self.__subscribersList:\n",
        "            sub.update(self)\n",
        "\n",
        "    def contentUpload(self, content):\n",
        "        self.__videos.append(content)\n",
        "        self.notification()\n",
        "\n",
        "\n",
        "class Subscriber:\n",
        "    def __init__(self, user):\n",
        "        self.userName = user\n",
        "        self.channels = [] # my subscribed channels\n",
        "\n",
        "    def update(self, channel_obj):\n",
        "        print(\"hey, \" + self.userName + \", your subscribed channel \" + channel_obj.getChannelName() + \" uploaded new video\")\n",
        "        print(\"Video title: \" + channel_obj.getVideos()[-1])\n",
        "\n",
        "    def subscribeChannel(self, youtube_channel_twitter): # they can subscribe n channels, not only limited to twitter\n",
        "        youtube_channel_twitter.add_subscriber(self)\n",
        "        self.channels.append(youtube_channel_twitter)\n",
        "\n",
        "    def unsubscribeChannel(self, youtube_channel_twitter): # they can unsubscribe channels as well\n",
        "        if youtube_channel_twitter in self.channels:\n",
        "          youtube_channel_twitter.remove_subscriber(self)\n",
        "          self.channels.remove(youtube_channel_twitter)\n",
        "\n",
        "\n",
        "############################ Driver Code ############################\n",
        "\n",
        "if __name__ == \"__main__\":\n",
        "    Subscriber1 = Subscriber(\"Lionel Messi\")\n",
        "    Subscriber2 = Subscriber(\"Lamine Yamal\")\n",
        "    youtube_channel_twitter = Youtube() # mini Youtube inside twitter website\n",
        "    Subscriber1.subscribeChannel(youtube_channel_twitter)\n",
        "    youtube_channel_twitter.contentUpload(\"New Video 1\")\n",
        "    print(\"===============================\")\n",
        "    Subscriber2.subscribeChannel(youtube_channel_twitter)\n",
        "    youtube_channel_twitter.contentUpload(\"New Video 2\")\n",
        "    print(\"===============================\")\n",
        "    Subscriber1.unsubscribeChannel(youtube_channel_twitter)\n",
        "    youtube_channel_twitter.contentUpload(\"New Video 1\")"
      ],
      "metadata": {
        "colab": {
          "base_uri": "https://localhost:8080/"
        },
        "id": "XyytWe7_OQp-",
        "outputId": "a7ab6508-509e-46fe-ee1a-94ca7830f736"
      },
      "execution_count": null,
      "outputs": [
        {
          "output_type": "stream",
          "name": "stdout",
          "text": [
            "hey, Lionel Messi, your subscribed channel Twitter uploaded new video\n",
            "Video title: New Video 1\n",
            "===============================\n",
            "hey, Lionel Messi, your subscribed channel Twitter uploaded new video\n",
            "Video title: New Video 2\n",
            "hey, Lamine Yamal, your subscribed channel Twitter uploaded new video\n",
            "Video title: New Video 2\n",
            "===============================\n",
            "hey, Lamine Yamal, your subscribed channel Twitter uploaded new video\n",
            "Video title: New Video 1\n"
          ]
        }
      ]
    },
    {
      "cell_type": "markdown",
      "source": [
        "Let's consider a situation, where you are a pro-level software engineer. Now, you are being hired by Twitter. At this moment, Twitter wants to develop a website where they want to create a small version of YouTube. However, it can have multiple channels like normal YouTube. Now, the new version of your developed YouTube will have to have a channel named Twitter. That will post similar videos, reels/shorts like Linux-Tech-Tips. Also, users will get notified for the newly uploaded videos. Now, your job is to choose suitable design pattern that can help to develop the software."
      ],
      "metadata": {
        "id": "D7s8KkVG1XWP"
      }
    },
    {
      "cell_type": "code",
      "source": [
        "from abc import ABC, abstractmethod\n",
        "\n",
        "class Target(ABC):\n",
        "    @abstractmethod\n",
        "    def uploadReel(self, contentName):\n",
        "        pass\n",
        "\n",
        "    @abstractmethod\n",
        "    def uploadVideo(self, contentName):\n",
        "        pass\n",
        "\n",
        "\n",
        "class YoutubeServices:\n",
        "    def postReel(self, reel):\n",
        "      print(\"Posting reel...\", reel)\n",
        "    def postVideo(self, video):\n",
        "      print(\"Posting video...\", video)\n",
        "\n",
        "class youTubeAdapter(Target, YoutubeServices): # class-based adapter\n",
        "\n",
        "    def __init__(self, channelName):\n",
        "        self.channelName = channelName\n",
        "        self.subscribersList = []\n",
        "        self.videos = []\n",
        "\n",
        "    def subscribe(self, s):\n",
        "        self.subscribersList.append(s)\n",
        "        s.channel = self\n",
        "\n",
        "    def notification(self):\n",
        "        for sub in self.subscribersList:\n",
        "            sub.update(self)\n",
        "\n",
        "    def uploadReel(self, contentName):\n",
        "        super().postReel(contentName)\n",
        "        self.videos.append(contentName)\n",
        "        self.notification()\n",
        "\n",
        "    def uploadVideo(self, contentName):\n",
        "        super().postVideo(contentName)\n",
        "        self.videos.append(contentName)\n",
        "        self.notification()\n",
        "\n",
        "class Subscriber: # Fan with minimal functionalities to shorten the code\n",
        "    def __init__(self, user):\n",
        "        self.userName = user\n",
        "\n",
        "    def update(self, c):\n",
        "        print(\"hey, \" + self.userName + \", your subscribed channel \"\n",
        "              + c.channelName + \" uploaded new content\")\n",
        "        print(\"Content Name: \" + c.videos[-1])\n",
        "\n",
        "    def subscribeTo(self, channel):\n",
        "        channel.subscribe(self)\n",
        "\n",
        "    # add other necessary methods that are required to implement oberserver pattern\n",
        "\n",
        "\n",
        "############################ Driver Code ############################\n",
        "if __name__ == \"__main__\":\n",
        "    Subscriber1 = Subscriber(\"Lionel Messi\")\n",
        "    twitter = youTubeAdapter(\"Twitter\")\n",
        "    Subscriber1.subscribeTo(twitter)\n",
        "    print(\"===============================\")\n",
        "    twitter.uploadReel(\"New reel 1\")\n",
        "    print(\"===============================\")\n",
        "    twitter.uploadVideo(\"New Video 4\")"
      ],
      "metadata": {
        "colab": {
          "base_uri": "https://localhost:8080/"
        },
        "id": "diyNimkZOSKH",
        "outputId": "11dc95d0-94d8-487c-b217-08558449c621"
      },
      "execution_count": null,
      "outputs": [
        {
          "output_type": "stream",
          "name": "stdout",
          "text": [
            "===============================\n",
            "Posting reel... New reel 1\n",
            "hey, Lionel Messi, your subscribed channel Twitter uploaded new content\n",
            "Content Name: New reel 1\n",
            "===============================\n",
            "Posting video... New Video 4\n",
            "hey, Lionel Messi, your subscribed channel Twitter uploaded new content\n",
            "Content Name: New Video 4\n"
          ]
        }
      ]
    }
  ]
}