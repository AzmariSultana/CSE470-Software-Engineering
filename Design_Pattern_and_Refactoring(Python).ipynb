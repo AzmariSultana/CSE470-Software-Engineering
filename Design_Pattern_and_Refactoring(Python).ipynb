{
  "nbformat": 4,
  "nbformat_minor": 0,
  "metadata": {
    "colab": {
      "provenance": [],
      "include_colab_link": true
    },
    "kernelspec": {
      "name": "python3",
      "display_name": "Python 3"
    },
    "language_info": {
      "name": "python"
    }
  },
  "cells": [
    {
      "cell_type": "markdown",
      "metadata": {
        "id": "view-in-github",
        "colab_type": "text"
      },
      "source": [
        "<a href=\"https://colab.research.google.com/github/AzmariSultana/CSE470-Software-Engineering/blob/main/Design_Pattern_and_Refactoring(Python).ipynb\" target=\"_parent\"><img src=\"https://colab.research.google.com/assets/colab-badge.svg\" alt=\"Open In Colab\"/></a>"
      ]
    },
    {
      "cell_type": "markdown",
      "source": [
        "# Design Pattern"
      ],
      "metadata": {
        "id": "5Po5X9KTkrrc"
      }
    },
    {
      "cell_type": "markdown",
      "source": [
        "##Question 01\n",
        "\n",
        "Let's consider a situation, where you are a pro-level software engineer. Now, you are being hired by Twitter. At this moment, Twitter wants to develop a website where they want to create a small version of YouTube.Now, since it is a small version of YouTube, thus they want you to make sure that it has only one channel which is named \"Twitter\". They want you to ensure that no other channel can be made within this newly developed YouTube Platform. They want you to make sure that the site will be able to notify its users once a video is released. Now, your job is to choose suitable design pattern that can help to develop the software."
      ],
      "metadata": {
        "id": "rjzD6oYbZarp"
      }
    },
    {
      "cell_type": "code",
      "execution_count": null,
      "metadata": {
        "colab": {
          "base_uri": "https://localhost:8080/"
        },
        "id": "2aHNGROFZVWM",
        "outputId": "8f3007af-124f-4b10-d459-2fc60cdd1a05"
      },
      "outputs": [
        {
          "output_type": "stream",
          "name": "stdout",
          "text": [
            "hey Ching Chong, your subscribe channel Twitter uploaded new video\n",
            "Video Name New Video 1\n",
            "hey Ching Chong, your subscribe channel Twitter uploaded new video\n",
            "Video Name New Video 2\n",
            "hey Ching Chong, your subscribe channel Twitter uploaded new video\n",
            "Video Name New Video 4\n",
            "hey Ching Chong, your subscribe channel Twitter uploaded new video\n",
            "Video Name New Video 6\n",
            "<__main__.Youtube object at 0x7a601e156180>\n"
          ]
        }
      ],
      "source": [
        "# Singleton\n",
        "class Youtube:\n",
        "    _instance = None\n",
        "    videos = []\n",
        "\n",
        "    def __new__(cls):\n",
        "        if cls._instance is None:\n",
        "            cls._instance = super(Youtube, cls).__new__(cls)\n",
        "            cls._instance._initialized = False\n",
        "        return cls._instance\n",
        "\n",
        "    def __init__(self):\n",
        "        if not self._initialized:\n",
        "            self.subscribers_list = []\n",
        "            self.channel_name = \"Twitter\"\n",
        "            self._initialized = True\n",
        "\n",
        "    def subscribe(self, subscriber):\n",
        "        self.subscribers_list.append(subscriber)\n",
        "        subscriber.channel = self\n",
        "\n",
        "    def notification(self):\n",
        "        for subscriber in self.subscribers_list:\n",
        "            subscriber.update(self)\n",
        "\n",
        "    def content_upload(self, content):\n",
        "        Youtube.videos.append(content)\n",
        "        self.notification()\n",
        "\n",
        "    @staticmethod\n",
        "    def provide_object():\n",
        "        return Youtube()\n",
        "\n",
        "# Observer\n",
        "class Subscriber:\n",
        "    def __init__(self, user_name):\n",
        "        self.user_name = user_name\n",
        "        self.channel = None\n",
        "\n",
        "    def update(self, channel):\n",
        "        print(f\"hey {self.user_name}, your subscribe channel {channel.channel_name} uploaded new video\")\n",
        "        if Youtube.videos:\n",
        "            print(\"Video Name \" + Youtube.videos[-1])\n",
        "\n",
        "    def subscribe_twitter(self):\n",
        "        channel = Youtube.provide_object()\n",
        "        channel.subscribe(self)\n",
        "\n",
        "\n",
        "# Driver Code\n",
        "subscriber1 = Subscriber(\"Ching Chong\")\n",
        "subscriber1.subscribe_twitter()\n",
        "\n",
        "twitter = Youtube.provide_object()\n",
        "twitter.content_upload(\"New Video 1\")\n",
        "twitter.content_upload(\"New Video 2\")\n",
        "twitter.content_upload(\"New Video 4\")\n",
        "twitter.content_upload(\"New Video 6\")\n",
        "\n",
        "print(twitter)"
      ]
    },
    {
      "cell_type": "markdown",
      "source": [
        "##Question 02\n",
        "\n",
        "Let's consider a situation, where you are a pro-level software engineer. Now, you are being hired by Twitter. At this moment, Twitter wants to develop a website where they want to create a small version of YouTube. However, it can have multiple channels like normal YouTube. Now, the new version of your developed YouTube will have to have a channel named Twitter. That will post similar videos, reels/shorts like Linus-Tech-Tips. Also, users will get notified for the newly uploaded videos. Now, your job is to choose suitable design pattern that can help to develop the software."
      ],
      "metadata": {
        "id": "m-Yiw3WuJrG0"
      }
    },
    {
      "cell_type": "code",
      "source": [
        "from abc import ABC, abstractmethod\n",
        "\n",
        "# Interface\n",
        "class ChannelInterface(ABC):\n",
        "    @abstractmethod\n",
        "    def upload_content(self, content_name: str):\n",
        "        pass\n",
        "\n",
        "# Third-party or base class\n",
        "class LinusChannel:\n",
        "    def post_funny_video(self):\n",
        "        print(\"Linus channel video uploaded on Nvidia GPU\")\n",
        "\n",
        "# Observer: Subscriber class\n",
        "class Subscriber:\n",
        "    def __init__(self, username):\n",
        "        self.username = username\n",
        "        self.channel = None\n",
        "\n",
        "    def update(self, channel):\n",
        "        print(f\"Hey {self.username}, your subscribed channel '{channel.channel_name}' uploaded a new video!\")\n",
        "        if channel.videos:\n",
        "            print(\"Video Name:\", channel.videos[-1])  # latest video only\n",
        "\n",
        "    def subscribe_twitter(self):\n",
        "        channel = Youtube.provide_object()\n",
        "        channel.subscribe(self)\n",
        "\n",
        "# Adapter + Subject: Youtube class\n",
        "class Youtube(LinusChannel, ChannelInterface):\n",
        "    _instance = None  # for singleton behavior\n",
        "\n",
        "    def __init__(self, channel_name):\n",
        "        super().__init__()\n",
        "        self.channel_name = channel_name\n",
        "        self.subscribers_list = []\n",
        "        self.videos = []\n",
        "\n",
        "    def subscribe(self, subscriber: Subscriber):\n",
        "        self.subscribers_list.append(subscriber)\n",
        "        subscriber.channel = self\n",
        "\n",
        "    def notify(self):\n",
        "        for sub in self.subscribers_list:\n",
        "            sub.update(self)\n",
        "\n",
        "    def upload_content(self, content_name: str):\n",
        "        super().post_funny_video()  # from LinusChannel\n",
        "        self.videos.append(content_name)\n",
        "        self.notify()\n",
        "\n",
        "    @staticmethod\n",
        "    def provide_object():\n",
        "        if Youtube._instance is None:\n",
        "            Youtube._instance = Youtube(\"Twitter\")\n",
        "        return Youtube._instance\n",
        "\n",
        "# Driver Code\n",
        "subscriber1 = Subscriber(\"Ching Chong\")\n",
        "subscriber1.subscribe_twitter()\n",
        "\n",
        "twitter_channel = Youtube.provide_object()\n",
        "twitter_channel.upload_content(\"New Video 1\")\n",
        "twitter_channel.upload_content(\"New Video 2\")\n",
        "twitter_channel.upload_content(\"New Video 4\")\n",
        "twitter_channel.upload_content(\"New Video 6\")\n",
        "\n",
        "print(f\"\\nVideos on channel '{twitter_channel.channel_name}': {twitter_channel.videos}\")"
      ],
      "metadata": {
        "colab": {
          "base_uri": "https://localhost:8080/"
        },
        "id": "gMWivUybJuLt",
        "outputId": "211c3506-2cf1-4176-eed9-28c997c566f8"
      },
      "execution_count": null,
      "outputs": [
        {
          "output_type": "stream",
          "name": "stdout",
          "text": [
            "Linus channel video uploaded on Nvidia GPU\n",
            "Hey Ching Chong, your subscribed channel 'Twitter' uploaded a new video!\n",
            "Video Name: New Video 1\n",
            "Linus channel video uploaded on Nvidia GPU\n",
            "Hey Ching Chong, your subscribed channel 'Twitter' uploaded a new video!\n",
            "Video Name: New Video 2\n",
            "Linus channel video uploaded on Nvidia GPU\n",
            "Hey Ching Chong, your subscribed channel 'Twitter' uploaded a new video!\n",
            "Video Name: New Video 4\n",
            "Linus channel video uploaded on Nvidia GPU\n",
            "Hey Ching Chong, your subscribed channel 'Twitter' uploaded a new video!\n",
            "Video Name: New Video 6\n",
            "\n",
            "Videos on channel 'Twitter': ['New Video 1', 'New Video 2', 'New Video 4', 'New Video 6']\n"
          ]
        }
      ]
    },
    {
      "cell_type": "markdown",
      "source": [
        "##Question 03\n",
        "\n",
        "Let's consider a situation where you want to develop software called WECHAT that will have a chatting option like Messenger, news feed, and friends group option like Facebook and a streaming option like Twitch. Now, in order to complete the process, you also hired some new people who can work with you in this project. You want to make sure that there will be only one Application that can solve the problem of All the mentioned Applications. Now, for Facebook, you can implement the feature called newsfeed and groups. For Messenger, you can only implement the feature of Chatting. In addition, for Twitch you can develop feature like video streaming. Now, your job is to choose suitable design patterns that can help to develop the software.\n",
        "\n",
        "```\n",
        "# Driver Code\n",
        "weChat =WECHAT. getInstance( );\n",
        "weChat.streamingVideo( );\n",
        "weChat2 =WECHAT. getInstance( ) ;\n",
        "weChat.sendMessage( );\n",
        "weChat.createFriendsGroup( );\n",
        "weChat2.useNewsFeed( );\n",
        "print(weChat);\n",
        "print(weChat2);\n",
        "```"
      ],
      "metadata": {
        "id": "91c5DsaYMPQ3"
      }
    },
    {
      "cell_type": "code",
      "source": [
        "# Subsystems: Facebook, Messenger, Twitch\n",
        "class Facebook:\n",
        "    def create_friends_group(self):\n",
        "        print(\"Welcome to the group\")\n",
        "\n",
        "    def use_news_feed(self):\n",
        "        print(\"Scroll through news feed\")\n",
        "\n",
        "\n",
        "class Messenger:\n",
        "    def send_message(self):\n",
        "        print(\"Let's Message each other\")\n",
        "\n",
        "\n",
        "class Twitch:\n",
        "    def streaming_video(self):\n",
        "        print(\"Videos from twitch\")\n",
        "\n",
        "\n",
        "# Singleton\n",
        "class Singleton:\n",
        "    _instance = None\n",
        "\n",
        "    def __new__(cls):\n",
        "        if cls._instance is None:\n",
        "            cls._instance = super().__new__(cls)\n",
        "        return cls._instance\n",
        "\n",
        "# WECHAT class using Singleton + Adapters\n",
        "class WECHAT(Singleton):\n",
        "    def __init__(self):\n",
        "        if not hasattr(self, 'initialized'):\n",
        "            self.facebook = Facebook()\n",
        "            self.messenger = Messenger()\n",
        "            self.twitch = Twitch()\n",
        "            self.initialized = True\n",
        "\n",
        "    @staticmethod\n",
        "    def getInstance():\n",
        "        return WECHAT()\n",
        "\n",
        "    def sendMessage(self):\n",
        "        print(\"Wechat has its own message to send\")\n",
        "        self.messenger.send_message()\n",
        "\n",
        "    def useNewsFeed(self):\n",
        "        print(\"Let's use the NewsFeed\")\n",
        "        self.facebook.use_news_feed()\n",
        "\n",
        "    def streamingVideo(self):\n",
        "        print(\"Let's stream videos\")\n",
        "        self.twitch.streaming_video()\n",
        "\n",
        "    def createFriendsGroup(self):\n",
        "        print(\"Let's create friends group\")\n",
        "        self.facebook.create_friends_group()\n",
        "\n",
        "# Driver Code\n",
        "weChat = WECHAT.getInstance()\n",
        "weChat.streamingVideo()\n",
        "\n",
        "weChat2 = WECHAT.getInstance()\n",
        "weChat.sendMessage()\n",
        "weChat.createFriendsGroup()\n",
        "weChat2.useNewsFeed()\n",
        "\n",
        "print(weChat)\n",
        "print(weChat2)"
      ],
      "metadata": {
        "colab": {
          "base_uri": "https://localhost:8080/"
        },
        "id": "m9GThm3CMYyQ",
        "outputId": "02b1ac1b-55a9-40af-8715-f8a4bd4b7e5c"
      },
      "execution_count": null,
      "outputs": [
        {
          "output_type": "stream",
          "name": "stdout",
          "text": [
            "Let's stream videos\n",
            "Videos from twitch\n",
            "We chat has its own message to send\n",
            "Let's Message each other\n",
            "Let's create friends group\n",
            "Welcome to the group\n",
            "Let's use the NewsFeed\n",
            "Scroll through news feed\n",
            "<__main__.WECHAT object at 0x7a601d35b9e0>\n",
            "<__main__.WECHAT object at 0x7a601d35b9e0>\n"
          ]
        }
      ]
    },
    {
      "cell_type": "markdown",
      "source": [
        "##Question 4\n",
        "\n",
        "In Tech-Park, \"Magic Sweets\" was famous for its magical cakes, crafted solely by Mr. Shaheed, the master baker. His secret was consistency each cake tasted exactly like the first, and only he was allowed to make them to maintain this perfect standard. When Jamie, a new baker, suggested allowing others to help increase production, Mr. Shaheed explained, \"Our success comes from having one source the master baker-ensuring every cake is consistently perfect, just like the first.\" Inspired, Jamie applied this idea to their software system by implementing a design pattern for configuration settings. Just as Mr.Shaheed's approach kept the cakes consistent, the design pattern ensured the class maintained stable and controlled settings."
      ],
      "metadata": {
        "id": "YYXy8Jv5O2QH"
      }
    },
    {
      "cell_type": "code",
      "source": [
        "class MagicalCake:\n",
        "    __instance = None\n",
        "\n",
        "    def __new__(cls):\n",
        "        if cls.__instance is None:\n",
        "            cls.__instance = super().__new__(cls)\n",
        "        return cls.__instance\n",
        "\n",
        "    @staticmethod\n",
        "    def prepareMagicalCake():\n",
        "        return MagicalCake()\n",
        "\n",
        "\n",
        "# Driver Code\n",
        "cake1 = MagicalCake.prepareMagicalCake()\n",
        "cake2 = MagicalCake.prepareMagicalCake()\n",
        "cake4 = MagicalCake.prepareMagicalCake()\n",
        "cake6 = MagicalCake.prepareMagicalCake()\n",
        "\n",
        "print(cake1)\n",
        "print(cake2)\n",
        "print(cake4)\n",
        "print(cake6)"
      ],
      "metadata": {
        "colab": {
          "base_uri": "https://localhost:8080/"
        },
        "id": "wJh42-6FO75T",
        "outputId": "fe5053fd-c576-4d55-cd6d-689d2a15f11e"
      },
      "execution_count": null,
      "outputs": [
        {
          "output_type": "stream",
          "name": "stdout",
          "text": [
            "<__main__.MagicalCake object at 0x7a601e156000>\n",
            "<__main__.MagicalCake object at 0x7a601e156000>\n",
            "<__main__.MagicalCake object at 0x7a601e156000>\n",
            "<__main__.MagicalCake object at 0x7a601e156000>\n"
          ]
        }
      ]
    },
    {
      "cell_type": "markdown",
      "source": [
        "# Question 5\n",
        "\n",
        "You have been assigned to design an Online Learning Platform. The platform must have a single course catalog that stores all available video lessons and prevents duplicate catalogs from being created. Furthermore, whenever a new lesson is uploaded, all registered students should be automatically notified so they can access the latest content without delay. Analyze this scenario and suggest appropriate design approaches to implement the system effectively."
      ],
      "metadata": {
        "id": "TF23YCbsOD0w"
      }
    },
    {
      "cell_type": "code",
      "source": [
        "class CourseCatalog:\n",
        "    _instance = None\n",
        "    lessons = []\n",
        "\n",
        "    def __new__(cls):\n",
        "        if cls._instance is None:\n",
        "            cls._instance = super().__new__(cls)\n",
        "            cls._instance._initialized = False\n",
        "        return cls._instance\n",
        "\n",
        "    def __init__(self):\n",
        "        if not self._initialized:\n",
        "            self.subscribers = []\n",
        "            self._initialized = True\n",
        "\n",
        "    def subscribe(self, student):\n",
        "        if student not in self.subscribers:\n",
        "            self.subscribers.append(student)\n",
        "            student.catalog = self\n",
        "\n",
        "    def unsubscribe(self, student):\n",
        "        if student in self.subscribers:\n",
        "            self.subscribers.remove(student)\n",
        "            student.catalog = None\n",
        "\n",
        "    def add_lesson(self, lesson):\n",
        "        CourseCatalog.lessons.append(lesson)\n",
        "        print(f\"\\n[Catalog] New lesson uploaded: {lesson}\")\n",
        "        self.notify_all()\n",
        "\n",
        "    def notify_all(self):\n",
        "        for student in self.subscribers:\n",
        "            student.update()\n",
        "\n",
        "\n",
        "class Student:\n",
        "    def __init__(self, name):\n",
        "        self.name = name\n",
        "        self.catalog = None\n",
        "\n",
        "    def update(self):\n",
        "        print(f\"Hey {self.name}, a new lesson has been added!\")\n",
        "        if CourseCatalog.lessons:\n",
        "            print(\"Latest Lesson:\", CourseCatalog.lessons[-1])\n",
        "\n",
        "    def subscribe_catalog(self):\n",
        "        catalog = CourseCatalog()\n",
        "        catalog.subscribe(self)\n",
        "\n",
        "    def unsubscribe_catalog(self):\n",
        "        if self.catalog:\n",
        "            self.catalog.unsubscribe(self)\n",
        "\n",
        "\n",
        "# --- Driver Code ---\n",
        "alice = Student(\"Alice\")\n",
        "bob = Student(\"Bob\")\n",
        "charlie = Student(\"Charlie\")\n",
        "\n",
        "# Subscribe to course catalog\n",
        "alice.subscribe_catalog()\n",
        "bob.subscribe_catalog()\n",
        "charlie.subscribe_catalog()\n",
        "\n",
        "# Add lessons\n",
        "catalog = CourseCatalog()\n",
        "catalog.add_lesson(\"Lesson 1: Introduction to Python\")\n",
        "catalog.add_lesson(\"Lesson 2: OOP Concepts\")\n",
        "\n",
        "# Unsubscribe Bob and add another lesson\n",
        "bob.unsubscribe_catalog()\n",
        "catalog.add_lesson(\"Lesson 3: Observer Pattern\")"
      ],
      "metadata": {
        "colab": {
          "base_uri": "https://localhost:8080/"
        },
        "id": "YRQJpMGJK9G9",
        "outputId": "64894940-092c-4f6a-9281-89903f0a89c5"
      },
      "execution_count": null,
      "outputs": [
        {
          "output_type": "stream",
          "name": "stdout",
          "text": [
            "\n",
            "[Catalog] New lesson uploaded: Lesson 1: Introduction to Python\n",
            "Hey Alice, a new lesson has been added!\n",
            "Latest Lesson: Lesson 1: Introduction to Python\n",
            "Hey Bob, a new lesson has been added!\n",
            "Latest Lesson: Lesson 1: Introduction to Python\n",
            "Hey Charlie, a new lesson has been added!\n",
            "Latest Lesson: Lesson 1: Introduction to Python\n",
            "\n",
            "[Catalog] New lesson uploaded: Lesson 2: OOP Concepts\n",
            "Hey Alice, a new lesson has been added!\n",
            "Latest Lesson: Lesson 2: OOP Concepts\n",
            "Hey Bob, a new lesson has been added!\n",
            "Latest Lesson: Lesson 2: OOP Concepts\n",
            "Hey Charlie, a new lesson has been added!\n",
            "Latest Lesson: Lesson 2: OOP Concepts\n",
            "\n",
            "[Catalog] New lesson uploaded: Lesson 3: Observer Pattern\n",
            "Hey Alice, a new lesson has been added!\n",
            "Latest Lesson: Lesson 3: Observer Pattern\n",
            "Hey Charlie, a new lesson has been added!\n",
            "Latest Lesson: Lesson 3: Observer Pattern\n"
          ]
        }
      ]
    },
    {
      "cell_type": "markdown",
      "source": [
        "# Question 6"
      ],
      "metadata": {
        "id": "vWRdJ7tHcLbD"
      }
    },
    {
      "cell_type": "markdown",
      "source": [
        "A university system requires a single shared virtual guard mama who would be able to do student enrollment, grade calculation, and updates. Creating multiple instances of the connection pool would waste resources and lead to conflicts. You must ensure only one instance of the connection pool exists throughout the application.\n",
        "\n",
        "Solution: Singleton. Class-> Guard mama"
      ],
      "metadata": {
        "id": "gcWy45v0cS1k"
      }
    },
    {
      "cell_type": "code",
      "source": [
        "class GuardMama:\n",
        "    _instance = None\n",
        "\n",
        "    def __new__(cls):\n",
        "        if cls._instance is None:\n",
        "            cls._instance = super().__new__(cls)\n",
        "            cls._instance._initialized = False\n",
        "        return cls._instance\n",
        "\n",
        "    def __init__(self):\n",
        "        if not self._initialized:\n",
        "            # Only initialize once\n",
        "            self.students = {}\n",
        "            self._initialized = True\n",
        "\n",
        "    def enroll_student(self, student_id, name):\n",
        "        self.students[student_id] = {\"name\": name, \"grades\": []}\n",
        "        print(f\"{name} has been enrolled.\")\n",
        "\n",
        "    def add_grade(self, student_id, grade):\n",
        "        if student_id in self.students:\n",
        "            self.students[student_id][\"grades\"].append(grade)\n",
        "            print(f\"Grade {grade} added for {self.students[student_id]['name']}.\")\n",
        "        else:\n",
        "            print(\"Student not found.\")\n",
        "\n",
        "    def calculate_gpa(self, student_id):\n",
        "        if student_id in self.students:\n",
        "            grades = self.students[student_id][\"grades\"]\n",
        "            if grades:\n",
        "                gpa = sum(grades) / len(grades)\n",
        "                print(f\"GPA of {self.students[student_id]['name']} is {gpa}\")\n",
        "            else:\n",
        "                print(\"No grades available.\")\n",
        "        else:\n",
        "            print(\"Student not found.\")\n",
        "\n",
        "# Create Singleton Instance\n",
        "mama1 = GuardMama()\n",
        "mama2 = GuardMama()\n",
        "\n",
        "# Enroll 3 students\n",
        "mama1.enroll_student(101, \"Tush\")\n",
        "mama2.enroll_student(102, \"XYZ\")\n",
        "mama2.enroll_student(103, \"Rauf\")\n",
        "\n",
        "# Add grades\n",
        "mama1.add_grade(101, 4.0)\n",
        "mama2.add_grade(101, 3.3)\n",
        "\n",
        "mama1.add_grade(102, 3.5)\n",
        "mama1.add_grade(102, 3.9)\n",
        "\n",
        "mama2.add_grade(103, 3.3)\n",
        "mama2.add_grade(103, 2.8)\n",
        "mama1.add_grade(103, 3.2)\n",
        "\n",
        "# Calculate GPA\n",
        "mama2.calculate_gpa(101)\n",
        "mama1.calculate_gpa(102)\n",
        "mama2.calculate_gpa(103)"
      ],
      "metadata": {
        "colab": {
          "base_uri": "https://localhost:8080/"
        },
        "id": "2liR4Ex4dP7v",
        "outputId": "96a63290-006d-4f62-c25c-b10a5c672249"
      },
      "execution_count": null,
      "outputs": [
        {
          "output_type": "stream",
          "name": "stdout",
          "text": [
            "Tush has been enrolled.\n",
            "XYZ has been enrolled.\n",
            "Rauf has been enrolled.\n",
            "Grade 4.0 added for Tush.\n",
            "Grade 3.3 added for Tush.\n",
            "Grade 3.5 added for XYZ.\n",
            "Grade 3.9 added for XYZ.\n",
            "Grade 3.3 added for Rauf.\n",
            "Grade 2.8 added for Rauf.\n",
            "Grade 3.2 added for Rauf.\n",
            "GPA of Tush is 3.65\n",
            "GPA of XYZ is 3.7\n",
            "GPA of Rauf is 3.1\n"
          ]
        }
      ]
    },
    {
      "cell_type": "markdown",
      "source": [
        "# Question 7"
      ],
      "metadata": {
        "id": "h1nnnsgcgE4V"
      }
    },
    {
      "cell_type": "markdown",
      "source": [
        "The university's IT department is implementing a centralized notification system where the Proctors would be able to send out Emails to students. The system must ensure only one instance is created while sending the sms, as multiple instances could lead to duplicate notifications or race conditions when managing resources like SMTP connections or SMS gateways. The university is also planning to keep a new feature for students to swim in the swimming pool.\n",
        "\n",
        "Solution: Singleton -> proctor class\n",
        "           And Observer->  subject-> proctor\n",
        "\t\t\tobserver-> student"
      ],
      "metadata": {
        "id": "tEjOt6KGgH5z"
      }
    },
    {
      "cell_type": "code",
      "source": [
        "class Proctor:\n",
        "    # Singleton instance\n",
        "    _instance = None\n",
        "\n",
        "    def __new__(cls):\n",
        "        if cls._instance is None:\n",
        "            cls._instance = super().__new__(cls)\n",
        "            cls._instance._initialized = False\n",
        "        return cls._instance\n",
        "\n",
        "    def __init__(self):\n",
        "        if not self._initialized:\n",
        "            self.students = []  # list of Student observers\n",
        "            self.mail_to_send = \"\"\n",
        "            self._initialized = True\n",
        "\n",
        "    # Observer Pattern Methods\n",
        "    def get_email(self):  # getState\n",
        "        return self.mail_to_send\n",
        "\n",
        "    def notify_students_by_mail(self):  # notify\n",
        "        for student in self.students:\n",
        "            student.see_email(self)\n",
        "\n",
        "    def send_email_to_students(self, new_email):  # changeState\n",
        "        self.mail_to_send = new_email\n",
        "        self.notify_students_by_mail()\n",
        "\n",
        "    def add_student(self, student):\n",
        "        if student not in self.students:\n",
        "            self.students.append(student)\n",
        "\n",
        "    def remove_student(self, student):\n",
        "        if student in self.students:\n",
        "            self.students.remove(student)\n",
        "\n",
        "class Student:\n",
        "    def __init__(self, name):\n",
        "        self.name = name\n",
        "        self.proctors = []\n",
        "\n",
        "    def see_email(self, proctor):  # seeState\n",
        "        print(f\"{self.name} received email: {proctor.get_email()}\")\n",
        "\n",
        "    # Basic add/remove\n",
        "    def add_proctor(self, proctor):\n",
        "        proctor.add_student(self)\n",
        "        self.proctors.append(proctor)\n",
        "\n",
        "    def remove_proctor(self, proctor):\n",
        "        proctor.remove_student(self)\n",
        "        self.proctors.remove(proctor)\n",
        "\n",
        "    # Extra method\n",
        "    def swim_in_pool(self):\n",
        "        print(f\"{self.name} is swimming in the university pool.\")\n",
        "\n",
        "# Create Singleton Proctor\n",
        "proctor = Proctor()\n",
        "\n",
        "# Create Students\n",
        "tush = Student(\"Tush\")\n",
        "xyz = Student(\"XYZ\")\n",
        "rauf = Student(\"Rauf\")\n",
        "\n",
        "# Students subscribe to Proctor\n",
        "tush.add_proctor(proctor)\n",
        "xyz.add_proctor(proctor)\n",
        "rauf.add_proctor(proctor)\n",
        "\n",
        "# Proctor sends email\n",
        "proctor.send_email_to_students(\"Exam postponed to Monday.\")\n",
        "\n",
        "# Students do extra activity\n",
        "xyz.swim_in_pool()"
      ],
      "metadata": {
        "colab": {
          "base_uri": "https://localhost:8080/"
        },
        "id": "AKuGgFcQgERy",
        "outputId": "4696870a-5580-44b2-c35d-385233959944"
      },
      "execution_count": null,
      "outputs": [
        {
          "output_type": "stream",
          "name": "stdout",
          "text": [
            "Tush received email: Exam postponed to Monday.\n",
            "XYZ received email: Exam postponed to Monday.\n",
            "Rauf received email: Exam postponed to Monday.\n",
            "XYZ is swimming in the university pool.\n"
          ]
        }
      ]
    },
    {
      "cell_type": "markdown",
      "source": [
        "# Question 8"
      ],
      "metadata": {
        "id": "OBwOyf8BioOt"
      }
    },
    {
      "cell_type": "markdown",
      "source": [
        "The university's IT department is implementing a centralized notification system where the Proctors would be able to send out SMS and email to students and faculties.\n",
        "\n",
        "Solution: Observer->  subject-> proctor\n",
        "\t\t\tobserver-> student, faculty"
      ],
      "metadata": {
        "id": "V_4R3qw2ip8j"
      }
    },
    {
      "cell_type": "code",
      "source": [
        "class Proctor:\n",
        "    def __init__(self):\n",
        "        self.students = []\n",
        "        self.faculties = []\n",
        "        self.mail_to_send = \"\"\n",
        "        self.sms_to_send = \"\"\n",
        "\n",
        "    # Get state\n",
        "    def get_email(self):\n",
        "        return self.mail_to_send\n",
        "\n",
        "    def get_sms(self):\n",
        "        return self.sms_to_send\n",
        "\n",
        "    # Notify students\n",
        "    def notify_students_by_email(self):\n",
        "        for student in self.students:\n",
        "            student.see_email(self)\n",
        "\n",
        "    def notify_students_by_sms(self):\n",
        "        for student in self.students:\n",
        "            student.see_sms(self)\n",
        "\n",
        "    # Notify faculties\n",
        "    def notify_faculties_by_email(self):\n",
        "        for faculty in self.faculties:\n",
        "            faculty.see_email(self)\n",
        "\n",
        "    def notify_faculties_by_sms(self):\n",
        "        for faculty in self.faculties:\n",
        "            faculty.see_sms(self)\n",
        "\n",
        "    # Change state and notify\n",
        "    def send_email_to_students(self, new_email):\n",
        "        self.mail_to_send = new_email\n",
        "        self.notify_students_by_email()\n",
        "\n",
        "    def send_sms_to_students(self, new_sms):\n",
        "        self.sms_to_send = new_sms\n",
        "        self.notify_students_by_sms()\n",
        "\n",
        "    def send_email_to_faculties(self, new_email):\n",
        "        self.mail_to_send = new_email\n",
        "        self.notify_faculties_by_email()\n",
        "\n",
        "    def send_sms_to_faculties(self, new_sms):\n",
        "        self.sms_to_send = new_sms\n",
        "        self.notify_faculties_by_sms()\n",
        "\n",
        "    # Add / remove operations\n",
        "    def add_student(self, student):\n",
        "        if student not in self.students:\n",
        "            self.students.append(student)\n",
        "\n",
        "    def remove_student(self, student):\n",
        "        if student in self.students:\n",
        "            self.students.remove(student)\n",
        "\n",
        "    def add_faculty(self, faculty):\n",
        "        if faculty not in self.faculties:\n",
        "            self.faculties.append(faculty)\n",
        "\n",
        "    def remove_faculty(self, faculty):\n",
        "        if faculty in self.faculties:\n",
        "            self.faculties.remove(faculty)\n",
        "\n",
        "class Student:\n",
        "    def __init__(self, name):\n",
        "        self.name = name\n",
        "        self.proctors = []\n",
        "\n",
        "    def see_email(self, proctor):\n",
        "        print(f\"[Student: {self.name}] received EMAIL: {proctor.get_email()}\")\n",
        "\n",
        "    def see_sms(self, proctor):\n",
        "        print(f\"[Student: {self.name}] received SMS: {proctor.get_sms()}\")\n",
        "\n",
        "    def add_proctor(self, proctor):\n",
        "        proctor.add_student(self)\n",
        "        self.proctors.append(proctor)\n",
        "\n",
        "    def remove_proctor(self, proctor):\n",
        "        proctor.remove_student(self)\n",
        "        self.proctors.remove(proctor)\n",
        "\n",
        "class Faculty:\n",
        "    def __init__(self, name):\n",
        "        self.name = name\n",
        "        self.proctors = []\n",
        "\n",
        "    def see_email(self, proctor):\n",
        "        print(f\"[Faculty: {self.name}] received EMAIL: {proctor.get_email()}\")\n",
        "\n",
        "    def see_sms(self, proctor):\n",
        "        print(f\"[Faculty: {self.name}] received SMS: {proctor.get_sms()}\")\n",
        "\n",
        "    def add_proctor(self, proctor):\n",
        "        proctor.add_faculty(self)\n",
        "        self.proctors.append(proctor)\n",
        "\n",
        "    def remove_proctor(self, proctor):\n",
        "        proctor.remove_faculty(self)\n",
        "        self.proctors.remove(proctor)\n",
        "\n",
        "# Create proctor (subject)\n",
        "proctor = Proctor()\n",
        "\n",
        "# Create observers\n",
        "tush = Student(\"Tush\")\n",
        "rauf = Student(\"Rauf\")\n",
        "khr = Faculty(\"KHR\")\n",
        "gluglu = Faculty(\"Gluglu\")\n",
        "\n",
        "# Subscribe observers to subject\n",
        "tush.add_proctor(proctor)\n",
        "rauf.add_proctor(proctor)\n",
        "khr.add_proctor(proctor)\n",
        "gluglu.add_proctor(proctor)\n",
        "\n",
        "# Notifications from proctor\n",
        "proctor.send_email_to_students(\"Class test on Thursday.\")\n",
        "proctor.send_sms_to_students(\"Bring ID card for entry.\")\n",
        "proctor.send_email_to_faculties(\"Department meeting on Friday.\")\n",
        "proctor.send_sms_to_faculties(\"Submit evaluation report by Wednesday.\")"
      ],
      "metadata": {
        "colab": {
          "base_uri": "https://localhost:8080/"
        },
        "id": "Qk6V2nydisfE",
        "outputId": "f97b4dbe-b208-467f-e7c1-f7cc1c8aa349"
      },
      "execution_count": null,
      "outputs": [
        {
          "output_type": "stream",
          "name": "stdout",
          "text": [
            "[Student: Tush] received EMAIL: Class test on Thursday.\n",
            "[Student: Rauf] received EMAIL: Class test on Thursday.\n",
            "[Student: Tush] received SMS: Bring ID card for entry.\n",
            "[Student: Rauf] received SMS: Bring ID card for entry.\n",
            "[Faculty: KHR] received EMAIL: Department meeting on Friday.\n",
            "[Faculty: Gluglu] received EMAIL: Department meeting on Friday.\n",
            "[Faculty: KHR] received SMS: Submit evaluation report by Wednesday.\n",
            "[Faculty: Gluglu] received SMS: Submit evaluation report by Wednesday.\n"
          ]
        }
      ]
    },
    {
      "cell_type": "markdown",
      "source": [
        "# Question 9"
      ],
      "metadata": {
        "id": "Ril6GVJjkIvi"
      }
    },
    {
      "cell_type": "markdown",
      "source": [
        "You are the lead developer at a company called SmartLife Solutions, which is building a smart home automation system. The goal is to create a unified platform that allows homeowners to control all their smart devices (like lights and fans) from a single app. However, the devices you want to integrate come from different manufacturers, each with its own API and device interface."
      ],
      "metadata": {
        "id": "4gBczVT5kKUi"
      }
    },
    {
      "cell_type": "code",
      "source": [
        "from abc import ABC, abstractmethod\n",
        "\n",
        "# Target Interface\n",
        "class SmartLife(ABC):\n",
        "\n",
        "    @abstractmethod\n",
        "    def turn_on_light(self):\n",
        "        pass\n",
        "\n",
        "    @abstractmethod\n",
        "    def turn_off_light(self):\n",
        "        pass\n",
        "\n",
        "    @abstractmethod\n",
        "    def turn_on_fan(self):\n",
        "        pass\n",
        "\n",
        "    @abstractmethod\n",
        "    def turn_off_fan(self):\n",
        "        pass\n",
        "\n",
        "    @abstractmethod\n",
        "    def adjust_fan_speed(self):\n",
        "        pass\n",
        "\n",
        "\n",
        "class Light:\n",
        "    def turn_on_light(self):\n",
        "        print(\"Light: Turned On\")\n",
        "\n",
        "    def turn_off_light(self):\n",
        "        print(\"Light: Turned Off\")\n",
        "\n",
        "\n",
        "class Fan:\n",
        "    def turn_on_fan(self):\n",
        "        print(\"Fan: Turned On\")\n",
        "\n",
        "    def turn_off_fan(self):\n",
        "        print(\"Fan: Turned Off\")\n",
        "\n",
        "    def adjust_fan_speed(self):\n",
        "        print(\"Fan: Speed Adjusted\")\n",
        "\n",
        "\n",
        "class SmartLifeAdapter(SmartLife):\n",
        "    def __init__(self):\n",
        "        self.light = Light()\n",
        "        self.fan = Fan()\n",
        "\n",
        "    def turn_on_light(self):\n",
        "        self.light.turn_on_light()\n",
        "\n",
        "    def turn_off_light(self):\n",
        "        self.light.turn_off_light()\n",
        "\n",
        "    def turn_on_fan(self):\n",
        "        self.fan.turn_on_fan()\n",
        "\n",
        "    def turn_off_fan(self):\n",
        "        self.fan.turn_off_fan()\n",
        "\n",
        "    def adjust_fan_speed(self):\n",
        "        self.fan.adjust_fan_speed()\n",
        "\n",
        "# Main driver\n",
        "smart_home = SmartLifeAdapter()\n",
        "\n",
        "smart_home.turn_on_light()\n",
        "smart_home.turn_off_light()\n",
        "smart_home.turn_on_fan()\n",
        "smart_home.adjust_fan_speed()\n",
        "smart_home.turn_off_fan()"
      ],
      "metadata": {
        "colab": {
          "base_uri": "https://localhost:8080/"
        },
        "id": "iFUUEfSSkPF_",
        "outputId": "09f4dcaf-44c6-433d-d494-b429c77cd1b4"
      },
      "execution_count": null,
      "outputs": [
        {
          "output_type": "stream",
          "name": "stdout",
          "text": [
            "Light: Turned On\n",
            "Light: Turned Off\n",
            "Fan: Turned On\n",
            "Fan: Speed Adjusted\n",
            "Fan: Turned Off\n"
          ]
        }
      ]
    },
    {
      "cell_type": "markdown",
      "source": [
        "# Question 10"
      ],
      "metadata": {
        "id": "qTDFRebSkvc_"
      }
    },
    {
      "cell_type": "markdown",
      "source": [
        "Creating and implementing a robust e-commerce system for the \"Global Market Hub\" was a challenging task. The company advertised the position of Lead Software Architect, looking for someone with the expertise to unify multiple existing payment gateways into a single user-friendly system. You were hired to spearhead this transformation.\n",
        "The project required you to integrate various payment services, such as PayPal, Stripe, and a legacy bank API, each with its own unique interface, into a single, unified payment processing module. Customers should be able to choose their preferred payment method seamlessly during checkout without worrying about the underlying complexities. Additionally, the system needed to be scalable so that new payment methods could be added in the future without disrupting existing functionality."
      ],
      "metadata": {
        "id": "fXNnlhi6kxd2"
      }
    },
    {
      "cell_type": "code",
      "source": [
        "from abc import ABC, abstractmethod\n",
        "\n",
        "class AllInOnePaymentProcessor(ABC):\n",
        "    @abstractmethod\n",
        "    def process_payment(self, amount: float):\n",
        "        pass\n",
        "\n",
        "\n",
        "class PayPalService:\n",
        "    def make_payment(self, amount: float):\n",
        "        print(f\"Processing payment of ${amount} through PayPal.\")\n",
        "\n",
        "\n",
        "class StripeService:\n",
        "    def charge_amount(self, amount: float):\n",
        "        print(f\"Charging ${amount} through Stripe.\")\n",
        "\n",
        "\n",
        "class LegacyBankAPI:\n",
        "    def execute_transaction(self, amount: float):\n",
        "        print(f\"Executing transaction of ${amount} through Legacy Bank.\")\n",
        "\n",
        "\n",
        "class AllInOnePaymentProcessorAdapter(AllInOnePaymentProcessor):\n",
        "    def __init__(self, service_type: str):\n",
        "        # Not part of Adapter pattern: type-based object creation\n",
        "        if service_type == \"PayPal\":\n",
        "            self.payment_service = PayPalService()\n",
        "        elif service_type == \"Stripe\":\n",
        "            self.payment_service = StripeService()\n",
        "        elif service_type == \"LegacyBank\":\n",
        "            self.payment_service = LegacyBankAPI()\n",
        "        else:\n",
        "            raise ValueError(\"Unsupported payment service type.\")\n",
        "\n",
        "    def process_payment(self, amount: float):\n",
        "        if isinstance(self.payment_service, PayPalService):\n",
        "            self.payment_service.make_payment(amount)\n",
        "        elif isinstance(self.payment_service, StripeService):\n",
        "            self.payment_service.charge_amount(amount)\n",
        "        elif isinstance(self.payment_service, LegacyBankAPI):\n",
        "            self.payment_service.execute_transaction(amount)\n",
        "        else:\n",
        "            print(\"Unsupported payment service.\")\n",
        "\n",
        "paypal = AllInOnePaymentProcessorAdapter(\"PayPal\")\n",
        "paypal.process_payment(150.0)\n",
        "\n",
        "stripe = AllInOnePaymentProcessorAdapter(\"Stripe\")\n",
        "stripe.process_payment(250.0)\n",
        "\n",
        "legacy = AllInOnePaymentProcessorAdapter(\"LegacyBank\")\n",
        "legacy.process_payment(500.0)"
      ],
      "metadata": {
        "colab": {
          "base_uri": "https://localhost:8080/"
        },
        "id": "eLARW0zklAyG",
        "outputId": "ee5557d1-8d72-47eb-e685-6d2c631bba00"
      },
      "execution_count": null,
      "outputs": [
        {
          "output_type": "stream",
          "name": "stdout",
          "text": [
            "Processing payment of $150.0 through PayPal.\n",
            "Charging $250.0 through Stripe.\n",
            "Executing transaction of $500.0 through Legacy Bank.\n"
          ]
        }
      ]
    },
    {
      "cell_type": "markdown",
      "source": [
        "# Refactoring"
      ],
      "metadata": {
        "id": "y1NQ2-UfhvJ7"
      }
    },
    {
      "cell_type": "markdown",
      "source": [
        "##Question 1"
      ],
      "metadata": {
        "id": "TtIO2jtkh4l4"
      }
    },
    {
      "cell_type": "code",
      "source": [
        "class Book:\n",
        "    def __init__(self, title, author, price):\n",
        "        self.title = title\n",
        "        self.author = author\n",
        "        self.price = price\n",
        "\n",
        "\n",
        "class Customer:\n",
        "    def __init__(self, name, age, author=None):\n",
        "        self.name = name\n",
        "        self.age = age\n",
        "        self.author = author  # favorite author (if any)\n",
        "\n",
        "\n",
        "class Library:\n",
        "    def __init__(self):\n",
        "        self.books = []\n",
        "\n",
        "    def calculate_price_for_gold_customers(self, book, customer):\n",
        "        print(\"Yo Gold Customer\")\n",
        "        if book.price > 1000 or customer.age > 20 or book.author == customer.author:\n",
        "            return book.price * 0.70\n",
        "        else:\n",
        "            return book.price\n",
        "\n",
        "    def calculate_price_for_silver_customers(self, book, customer):\n",
        "        print(\"Yo Silver Candidate\")\n",
        "        if book.price == 500:\n",
        "            print(\"wow\")\n",
        "        if book.price > 1000 or customer.age > 30 or book.author == customer.author:\n",
        "            return book.price * 0.80\n",
        "        else:\n",
        "            return book.price\n"
      ],
      "metadata": {
        "id": "kScILq3Lhy1o"
      },
      "execution_count": 1,
      "outputs": []
    },
    {
      "cell_type": "markdown",
      "source": [
        "##Question 1 Refactored:\n",
        "\n",
        "Duplication->Extract Method\n",
        "\n",
        "Long Condition-> Extract method"
      ],
      "metadata": {
        "id": "wmE92-X3h8Hm"
      }
    },
    {
      "cell_type": "code",
      "source": [
        "class Book:\n",
        "    def __init__(self, price, author):\n",
        "        self.price = price\n",
        "        self.author = author\n",
        "\n",
        "\n",
        "class Customer:\n",
        "    def __init__(self, age, name):\n",
        "        self.age = age\n",
        "        self.name = name\n",
        "\n",
        "\n",
        "class Library:\n",
        "    def __init__(self):\n",
        "        self.books = []\n",
        "\n",
        "    def calculate_price_for_gold_customers(self, book, customer):\n",
        "        print(\"Yo Gold Customer\")\n",
        "        return self.apply_discount(book, customer, age_limit=20, charge_rate=0.70)\n",
        "\n",
        "    def calculate_price_for_silver_customers(self, book, customer):\n",
        "        print(\"Yo Silver Candidate\")\n",
        "        if book.price == 500:\n",
        "            print(\"Wow\")\n",
        "        return self.apply_discount(book, customer, age_limit=30, charge_rate=0.80)\n",
        "\n",
        "    def apply_discount(self, book, customer, age_limit, charge_rate):\n",
        "        if self.is_discount_applicable(book, customer, age_limit):\n",
        "            return book.price * charge_rate\n",
        "        else:\n",
        "            return book.price\n",
        "\n",
        "    def is_discount_applicable(self, book, customer, age_limit):\n",
        "        return (\n",
        "            book.price > 1000\n",
        "            or customer.age > age_limit\n",
        "            or book.author == customer.name\n",
        "        )"
      ],
      "metadata": {
        "id": "TXh7w_QMmaAQ"
      },
      "execution_count": 2,
      "outputs": []
    },
    {
      "cell_type": "markdown",
      "source": [
        "##Question 2"
      ],
      "metadata": {
        "id": "1TAjCNf-iISR"
      }
    },
    {
      "cell_type": "code",
      "source": [
        "class Customer:\n",
        "    def __init__(self, name, loyalty_points):\n",
        "        self.name = name\n",
        "        self.loyalty_points = loyalty_points\n",
        "\n",
        "    def glp(self):\n",
        "        return self.loyalty_points\n",
        "\n",
        "    def price_recommendation(self, saree_price, shirt_price, panjabi_price, hat_price):\n",
        "        # Calculating recommendation rate\n",
        "        saree_price = 2 * 5 * shirt_price\n",
        "        panjabi_price = saree_price + hat_price\n",
        "        recommendation_rate = panjabi_price * 100\n",
        "\n",
        "        print(\"Hooray, done.\", recommendation_rate)\n",
        "\n",
        "\n",
        "class Order:\n",
        "    def __init__(self, customer, total_price):\n",
        "        self.customer = customer\n",
        "        self.total_price = total_price\n",
        "\n",
        "    def calculate_discount_rate(self):\n",
        "        if self.customer.glp() > 100:\n",
        "            return 0.1\n",
        "        return 0\n"
      ],
      "metadata": {
        "id": "dvZMVWZFiKuM"
      },
      "execution_count": 3,
      "outputs": []
    },
    {
      "cell_type": "markdown",
      "source": [
        "##Question 2 Refactored:\n",
        "\n",
        "Feature Envy-> Move field\n",
        "\n",
        "Inappropriate naming -> Proper naming\n",
        "\n",
        "Long Parameter-> create class\n",
        "\n",
        "Comment->Extract method"
      ],
      "metadata": {
        "id": "DlHoDJGEio__"
      }
    },
    {
      "cell_type": "code",
      "source": [
        "class Order:\n",
        "    def __init__(self, customer, total_price):\n",
        "        self.customer = customer\n",
        "        self.total_price = total_price\n",
        "\n",
        "\n",
        "class RecommendedPrice:\n",
        "    def __init__(self, saree, shirt, panjabi, hat):\n",
        "        self.saree = saree\n",
        "        self.shirt = shirt\n",
        "        self.panjabi = panjabi\n",
        "        self.hat = hat\n",
        "\n",
        "\n",
        "class Customer:\n",
        "    def __init__(self, name, loyalty_points):\n",
        "        self.name = name\n",
        "        self.loyalty_points = loyalty_points\n",
        "\n",
        "    def price_recommendation(self, recommended_price):\n",
        "        recommendation_rate = self.calculate_recommendation_rate(recommended_price)\n",
        "        print(\"Hooray, done.\", recommendation_rate)\n",
        "\n",
        "    def calculate_recommendation_rate(self, recommended_price):\n",
        "        recommended_price.saree = 2 * 5 * recommended_price.shirt\n",
        "        recommended_price.panjabi = recommended_price.saree + recommended_price.hat\n",
        "        recommendation_rate = recommended_price.panjabi * 100\n",
        "        return recommendation_rate\n",
        "\n",
        "    def get_loyalty_points(self):\n",
        "        return self.loyalty_points\n",
        "\n",
        "    def calculate_discount_rate(self, total_price):\n",
        "        if self.loyalty_points > 100:\n",
        "            return 0.1\n",
        "        return 0\n"
      ],
      "metadata": {
        "id": "c2QH41qtir6l"
      },
      "execution_count": 4,
      "outputs": []
    }
  ]
}