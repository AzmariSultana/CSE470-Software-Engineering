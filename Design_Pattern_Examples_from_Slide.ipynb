{
  "nbformat": 4,
  "nbformat_minor": 0,
  "metadata": {
    "colab": {
      "provenance": [],
      "include_colab_link": true
    },
    "kernelspec": {
      "name": "python3",
      "display_name": "Python 3"
    },
    "language_info": {
      "name": "python"
    }
  },
  "cells": [
    {
      "cell_type": "markdown",
      "metadata": {
        "id": "view-in-github",
        "colab_type": "text"
      },
      "source": [
        "<a href=\"https://colab.research.google.com/github/AzmariSultana/CSE470-Software-Engineering/blob/main/Design_Pattern_Examples_from_Slide.ipynb\" target=\"_parent\"><img src=\"https://colab.research.google.com/assets/colab-badge.svg\" alt=\"Open In Colab\"/></a>"
      ]
    },
    {
      "cell_type": "markdown",
      "source": [
        "Observer"
      ],
      "metadata": {
        "id": "As-TYeITHh7L"
      }
    },
    {
      "cell_type": "code",
      "execution_count": null,
      "metadata": {
        "colab": {
          "base_uri": "https://localhost:8080/"
        },
        "id": "qugj_zshmV8Z",
        "outputId": "3cd27027-dc18-440f-f89b-43123547ef2a"
      },
      "outputs": [
        {
          "output_type": "stream",
          "name": "stdout",
          "text": [
            "Jayed has been attached to SHRR's student list.\n"
          ]
        }
      ],
      "source": [
        "class Teacher:\n",
        "  def __init__(self, tname):\n",
        "    self.__students=[] # getters and setters are needed for these two private instance variables\n",
        "    self.__name=tname\n",
        "\n",
        "  def get_name(self):\n",
        "    return self.__name\n",
        "\n",
        "  def get_students(self):\n",
        "    return self.__students\n",
        "\n",
        "  def attach_student(self, student_obj): #(CTG, Dhaka)\n",
        "    self.__students.append(student_obj)\n",
        "    print(f\"{student_obj.get_name()} has been attached to {self.__name}'s student list.\")\n",
        "\n",
        "class Student:\n",
        "  def __init__(self, sname):\n",
        "    self.__teachers=[]  # getters and setters are needed for these two private instance variables\n",
        "    self.__name=sname\n",
        "\n",
        "  def get_name(self):\n",
        "    return self.__name\n",
        "\n",
        "  def get_teachers(self):\n",
        "    return self.__teachers\n",
        "\n",
        "  def add_teachers(self, teacher_obj): # (Dhaka, CTG)\n",
        "    self.__teachers.append(teacher_obj)\n",
        "    teacher_obj.attach_student(self) # both student and teacher list are updated\n",
        "\n",
        "# test code\n",
        "\n",
        "t1 = Teacher(\"SHRR\") # CTG\n",
        "s1 = Student(\"Jayed\") # dhaka\n",
        "s1.add_teachers(t1)"
      ]
    },
    {
      "cell_type": "code",
      "source": [
        "# Subject (Celebrity)\n",
        "class Celebrity:\n",
        "    def __init__(self):\n",
        "        self.__fans = [] # getters and setters are needed for these two private instance variables\n",
        "        self.__state = None\n",
        "\n",
        "    def get_fans(self):\n",
        "        return self.__fans\n",
        "\n",
        "    def attach(self, fan): # dhk, ctg\n",
        "        self.__fans.append(fan)\n",
        "\n",
        "    def detach(self, fan):\n",
        "      if fan in self__fans:\n",
        "        self.__fans.remove(fan)\n",
        "      else:\n",
        "        print(\"Fan/observer not found\")\n",
        "\n",
        "    def notify(self): # dhk\n",
        "        for fan in self.__fans:\n",
        "            fan.update(self)\n",
        "\n",
        "    def set_state(self, new_state): # dhk, string\n",
        "        self.__state = new_state\n",
        "        self.notify()\n",
        "\n",
        "    def get_state(self):\n",
        "        return self.__state\n",
        "\n",
        "\n",
        "# Observer (Fan)\n",
        "class Fan:\n",
        "    def __init__(self):\n",
        "        self.__celebrities = [] # getters and setters are needed for this private instance variable\n",
        "\n",
        "    def get_celebrities(self):\n",
        "        return self.__celebrities\n",
        "\n",
        "    def update(self, celebrity): #ctg , dhk\n",
        "        state = celebrity.get_state() # retrieving the new status of the celebrity\n",
        "        print(f\"Notification from the celebrity: {state}\")\n",
        "\n",
        "    def add_celebrity(self, celebrity): # ctg, dhk\n",
        "        self.__celebrities.append(celebrity)\n",
        "        celebrity.attach(self)\n",
        "\n",
        "    def remove_celebrity(self, celebrity):\n",
        "        self.__celebrities.remove(celebrity)\n",
        "        celebrity.detach(self)\n",
        "\n",
        "\n",
        "# test code\n",
        "\n",
        "celebrity = Celebrity() # dhk\n",
        "fan = Fan() # ctg\n",
        "#fan starts following…\n",
        "fan.add_celebrity(celebrity)\n",
        "#celeb changes status and #notification is received by fan.\n",
        "celebrity.set_state(\"Live! Talk on Global Climate Change\")\n",
        "#fan can stop following…\n",
        "fan.remove_celebrity(celebrity)"
      ],
      "metadata": {
        "colab": {
          "base_uri": "https://localhost:8080/"
        },
        "id": "qmZjAyeutoSZ",
        "outputId": "a532f276-ebff-421f-d126-2e1b7087bcd9"
      },
      "execution_count": null,
      "outputs": [
        {
          "output_type": "stream",
          "name": "stdout",
          "text": [
            "Notification from the celebrity: Live! Talk on Global Climate Change\n"
          ]
        }
      ]
    },
    {
      "cell_type": "markdown",
      "source": [
        "Singleton"
      ],
      "metadata": {
        "id": "eh_B5oM7HdC6"
      }
    },
    {
      "cell_type": "code",
      "source": [
        "# Why is singleton needed?\n",
        "\n",
        "class HelpDesk:\n",
        "  def getService(self):\n",
        "    print(\"HelpDesk Service\")\n",
        "\n",
        "class Student:\n",
        "  def get_helpDesk_service(self):\n",
        "    helpDeskObject = HelpDesk()\n",
        "    helpDeskObject.getService()\n",
        "\n",
        "class Teacher:\n",
        "  def get_helpDesk_service(self):\n",
        "    helpDeskObject = HelpDesk()\n",
        "    helpDeskObject.getService()\n",
        "\n",
        "# test code\n",
        "s1 = Student()\n",
        "s1.get_helpDesk_service()\n",
        "print(\"===================\")\n",
        "t1 = Teacher()\n",
        "t1.get_helpDesk_service()\n",
        "\n",
        "#In reality one Single HelpDesk is serving all. No need for multiple objects."
      ],
      "metadata": {
        "colab": {
          "base_uri": "https://localhost:8080/"
        },
        "id": "dSXBfRee_nsj",
        "outputId": "fa1ad27b-e033-4cf6-fc2c-956a19eb5591"
      },
      "execution_count": null,
      "outputs": [
        {
          "output_type": "stream",
          "name": "stdout",
          "text": [
            "HelpDesk Service\n",
            "===================\n",
            "HelpDesk Service\n"
          ]
        }
      ]
    },
    {
      "cell_type": "code",
      "source": [
        "# Basic learning\n",
        "\n",
        "class MyClass:\n",
        "    counter = 0\n",
        "    def __init__(self):\n",
        "        type(self).counter += 1  # Accessing class variable via the instance type, why not MyClass?\n",
        "\n",
        "    @classmethod\n",
        "    def get_counter(cls):\n",
        "        return cls.counter  # Accessing class variable via cls"
      ],
      "metadata": {
        "id": "kmH4rx02GOS8"
      },
      "execution_count": null,
      "outputs": []
    },
    {
      "cell_type": "code",
      "source": [
        "#Instantiation: __new__() is responsible for creating a new instance of the class. It allocates memory and prepares the object.\n",
        "#Initialization: After __new__() returns the new instance, the __init__() method is called to initialize the object’s state.\n",
        "\n",
        "#https://builtin.com/data-science/new-python#:~:text=What%20Is%20the%20__new__,to%20be%20passed%20to%20it\n",
        "\n",
        "class MyClass:\n",
        "    def __init__(self, *args, **kwargs):\n",
        "      print(\"Instance initialized\")\n",
        "\n",
        "    def __new__(cls, *args, **kwargs):\n",
        "        instance = super().__new__(cls)\n",
        "        print(\"Instance created\")\n",
        "        return instance\n",
        "\n",
        "obj = MyClass(10, 20, dict(name = \"John\", age = 36))"
      ],
      "metadata": {
        "colab": {
          "base_uri": "https://localhost:8080/"
        },
        "id": "y-yE-EJoHq4E",
        "outputId": "f1e89c9d-25a9-4cdd-b80e-b0a0e078af67"
      },
      "execution_count": null,
      "outputs": [
        {
          "output_type": "stream",
          "name": "stdout",
          "text": [
            "Instance created\n",
            "Instance initialized\n"
          ]
        }
      ]
    },
    {
      "cell_type": "code",
      "source": [
        "# Singleton\n",
        "\n",
        "class Singleton:\n",
        "    __instance = None #dhk\n",
        "\n",
        "    def __new__(cls):\n",
        "      if cls.__instance is None:\n",
        "        print(\"Creating the instance\")\n",
        "        cls.__instance = super().__new__(cls) # return the memory location\n",
        "\n",
        "      return cls.__instance\n",
        "\n",
        "    def get_service(self):\n",
        "      print(\"Service has been provided by the Singleton  instance.\")\n",
        "\n",
        "# test code\n",
        "# Let's assume that multiple clients need the service\n",
        "client1 = Singleton() #dhk\n",
        "client2 = Singleton() #dhk\n",
        "client3 = Singleton()\n",
        "print(\"==================\")\n",
        "client1.get_service()\n",
        "client2.get_service()\n",
        "client3.get_service()\n",
        "\n",
        "print(client1 is client2 is client3)"
      ],
      "metadata": {
        "id": "IGjgHlna6ALO",
        "colab": {
          "base_uri": "https://localhost:8080/"
        },
        "outputId": "e55047dc-f6c4-4884-a785-ddfda14c8319"
      },
      "execution_count": null,
      "outputs": [
        {
          "output_type": "stream",
          "name": "stdout",
          "text": [
            "Creating the instance\n",
            "==================\n",
            "Service has been provided by the Singleton  instance.\n",
            "Service has been provided by the Singleton  instance.\n",
            "Service has been provided by the Singleton  instance.\n",
            "True\n"
          ]
        }
      ]
    },
    {
      "cell_type": "markdown",
      "source": [
        "Object-based Adapter"
      ],
      "metadata": {
        "id": "GwQIQ2MdHZR0"
      }
    },
    {
      "cell_type": "code",
      "source": [
        "from abc import ABC, abstractmethod\n",
        "\n",
        "# Target Interface (Pizza interface)\n",
        "class Pizza(ABC):\n",
        "\n",
        "    @abstractmethod\n",
        "    def toppings(self):\n",
        "        pass\n",
        "\n",
        "    @abstractmethod\n",
        "    def buns(self):\n",
        "        pass\n",
        "\n",
        "# Adaptee: DhakaiyaPizza\n",
        "class DhakaiyaPizza:\n",
        "    def dhakaiya_toppings(self):\n",
        "        print(\"Adding Dhakaiya special toppings\")\n",
        "\n",
        "    def dhakaiya_buns(self):\n",
        "        print(\"Preparing Dhakaiya style buns\")\n",
        "\n",
        "# Adapter\n",
        "class PizzaAdapter(Pizza):\n",
        "    def __init__(self, adaptee): # ---, dhk\n",
        "        # This adapter can work with DhakaiyaPizza\n",
        "        self.adaptee = adaptee\n",
        "\n",
        "    def toppings(self):\n",
        "        # Adapt the toppings method based on the adaptee\n",
        "        self.adaptee.dhakaiya_toppings() #dhk.----\n",
        "\n",
        "    def buns(self):\n",
        "        # Adapt the buns method based on the adaptee\n",
        "        self.adaptee.dhakaiya_buns()\n",
        "\n",
        "\n",
        "# Client code, putting a request\n",
        "# Using the PizzaAdapter with DhakaiyaPizza\n",
        "dhakaiya_pizza = DhakaiyaPizza() # dhk\n",
        "pizza_adapter_dhakaiya = PizzaAdapter(dhakaiya_pizza) # dhk\n",
        "print(\"Using the PizzaAdapter with DhakaiyaPizza:\")\n",
        "pizza_adapter_dhakaiya.toppings()\n",
        "pizza_adapter_dhakaiya.buns()"
      ],
      "metadata": {
        "id": "gPIbZtKmFtls",
        "colab": {
          "base_uri": "https://localhost:8080/"
        },
        "outputId": "dfb448bd-a4e2-4fea-a3dd-f68c7950bbb4"
      },
      "execution_count": null,
      "outputs": [
        {
          "output_type": "stream",
          "name": "stdout",
          "text": [
            "Using the PizzaAdapter with DhakaiyaPizza:\n",
            "Adding Dhakaiya special toppings\n",
            "Preparing Dhakaiya style buns\n"
          ]
        }
      ]
    },
    {
      "cell_type": "markdown",
      "source": [
        "Class-based adapter"
      ],
      "metadata": {
        "id": "9F8DG8K0VxbZ"
      }
    },
    {
      "cell_type": "code",
      "source": [
        "from abc import ABC, abstractmethod\n",
        "\n",
        "# Target Interface (Pizza interface)\n",
        "class Pizza(ABC):\n",
        "    @abstractmethod\n",
        "    def toppings(self):\n",
        "        pass\n",
        "\n",
        "    @abstractmethod\n",
        "    def buns(self):\n",
        "        pass\n",
        "\n",
        "# Adaptee: DhakaiyaPizza\n",
        "class DhakaiyaPizza:\n",
        "    def dhakaiya_toppings(self):\n",
        "        print(\"Adding Dhakaiya special toppings\")\n",
        "\n",
        "    def dhakaiya_buns(self):\n",
        "        print(\"Preparing Dhakaiya style buns\")\n",
        "\n",
        "# Class Adapter\n",
        "class PizzaClassAdapter(Pizza, DhakaiyaPizza):\n",
        "    def toppings(self):\n",
        "        self.dhakaiya_toppings()\n",
        "\n",
        "    def buns(self):\n",
        "        self.dhakaiya_buns()\n",
        "\n",
        "# Client code\n",
        "# Using the Class Adapter\n",
        "pizza_adapter = PizzaClassAdapter()\n",
        "print(\"Using the pizza Adapter with DhakaiyaPizza:\")\n",
        "pizza_adapter.toppings()\n",
        "pizza_adapter.buns()"
      ],
      "metadata": {
        "colab": {
          "base_uri": "https://localhost:8080/"
        },
        "id": "taUmIdMOVFlh",
        "outputId": "a4d91a5f-2a6d-46a0-a92f-e034d1fca9b6"
      },
      "execution_count": null,
      "outputs": [
        {
          "output_type": "stream",
          "name": "stdout",
          "text": [
            "Using the pizza Adapter with DhakaiyaPizza:\n",
            "Adding Dhakaiya special toppings\n",
            "Preparing Dhakaiya style buns\n"
          ]
        }
      ]
    },
    {
      "cell_type": "markdown",
      "source": [
        "Another multiclass object-based adapter"
      ],
      "metadata": {
        "id": "d6T2zblfYdSS"
      }
    },
    {
      "cell_type": "code",
      "source": [
        "from abc import ABC, abstractmethod\n",
        "\n",
        "# Target Interface (Common Animal interface)\n",
        "class Animal(ABC):\n",
        "    @abstractmethod\n",
        "    def make_sound(self):\n",
        "        pass\n",
        "\n",
        "    @abstractmethod\n",
        "    def move(self):\n",
        "        pass\n",
        "\n",
        "# Adaptee 1 (A Dog class with different method names)\n",
        "class Dog:\n",
        "    def bark(self):\n",
        "        print(\"Woof!\")\n",
        "\n",
        "    def run(self):\n",
        "        print(\"Running on four legs\")\n",
        "\n",
        "# Adaptee 2 (A Bird class with different method names)\n",
        "class Bird:\n",
        "    def chirp(self):\n",
        "        print(\"Chirp!\")\n",
        "\n",
        "    def fly(self):\n",
        "        print(\"Flying through the air\")\n",
        "\n",
        "# Adapter for Dog\n",
        "class DogAdapter(Animal):\n",
        "    def __init__(self, dog):\n",
        "        self.dog = dog\n",
        "\n",
        "    def make_sound(self):\n",
        "        self.dog.bark()\n",
        "\n",
        "    def move(self):\n",
        "        self.dog.run()\n",
        "\n",
        "# Adapter for Bird\n",
        "class BirdAdapter(Animal):\n",
        "    def __init__(self, bird):\n",
        "        self.bird = bird\n",
        "\n",
        "    def make_sound(self):\n",
        "        self.bird.chirp()\n",
        "\n",
        "    def move(self):\n",
        "        self.bird.fly()\n",
        "\n",
        "# Client code (A function that works with any Animal)\n",
        "def make_animal_perform(animal):\n",
        "    animal.make_sound()\n",
        "    animal.move()\n",
        "\n",
        "# driver code/ tester code\n",
        "dog = Dog()\n",
        "dog_adapter = DogAdapter(dog)\n",
        "\n",
        "bird = Bird()\n",
        "bird_adapter = BirdAdapter(bird)\n",
        "\n",
        "print(\"Making the dog perform:\")\n",
        "make_animal_perform(dog_adapter)\n",
        "print(\"-----------------------\")\n",
        "print(\"Making the bird perform:\")\n",
        "make_animal_perform(bird_adapter)"
      ],
      "metadata": {
        "colab": {
          "base_uri": "https://localhost:8080/"
        },
        "id": "1ulctulEV-zJ",
        "outputId": "3feeeaf5-899a-4895-901a-b76650ef65b7"
      },
      "execution_count": null,
      "outputs": [
        {
          "output_type": "stream",
          "name": "stdout",
          "text": [
            "Making the dog perform:\n",
            "Woof!\n",
            "Running on four legs\n",
            "-----------------------\n",
            "Making the bird perform:\n",
            "Chirp!\n",
            "Flying through the air\n"
          ]
        }
      ]
    },
    {
      "cell_type": "markdown",
      "metadata": {
        "id": "a53939da"
      },
      "source": [
        "# Task\n",
        "Create a Python class-based adapter pattern example to bridge the incompatibility between a legacy XML service and a modern JSON service. The adapter should allow a client expecting JSON data to interact with the XML service."
      ]
    },
    {
      "cell_type": "markdown",
      "metadata": {
        "id": "b5396dc8"
      },
      "source": [
        "**Reasoning**:\n",
        "The subtask is to create an abstract base class for the JSON service interface. This requires defining a class that inherits from ABC and has an abstract method.\n",
        "\n"
      ]
    },
    {
      "cell_type": "code",
      "metadata": {
        "id": "9d93454d"
      },
      "source": [
        "from abc import ABC, abstractmethod\n",
        "\n",
        "class JsonService(ABC): # Target\n",
        "    @abstractmethod\n",
        "    def get_json_data(self):\n",
        "        pass"
      ],
      "execution_count": null,
      "outputs": []
    },
    {
      "cell_type": "markdown",
      "metadata": {
        "id": "400a680d"
      },
      "source": [
        "**Reasoning**:\n",
        "Define the `XmlService` class with the `get_xml_data` method to represent the legacy XML service.\n",
        "\n"
      ]
    },
    {
      "cell_type": "code",
      "metadata": {
        "id": "4aadf1c7"
      },
      "source": [
        "class XmlService: # Adaptee\n",
        "    def get_xml_data(self):\n",
        "        return \"<data><item>item1</item><item>item2</item></data>\""
      ],
      "execution_count": null,
      "outputs": []
    },
    {
      "cell_type": "markdown",
      "metadata": {
        "id": "1d004126"
      },
      "source": [
        "**Reasoning**:\n",
        "Create the `XmlToJsonAdapter` class that inherits from both `JsonService` and `XmlService`, and implement the `get_json_data` method to retrieve XML data from `XmlService` and return a hardcoded JSON string.\n",
        "\n"
      ]
    },
    {
      "cell_type": "code",
      "metadata": {
        "id": "654d9406"
      },
      "source": [
        "class XmlToJsonAdapter(JsonService, XmlService):\n",
        "    def get_json_data(self):\n",
        "        xml_data = self.get_xml_data()\n",
        "        # In a real scenario, you would parse the XML data and convert it to JSON.\n",
        "        # For this example, we return a placeholder JSON string.\n",
        "        print(f\"Received XML data: {xml_data}\")\n",
        "        return '{\"data\": [\"item1\", \"item2\"]}'"
      ],
      "execution_count": null,
      "outputs": []
    },
    {
      "cell_type": "markdown",
      "metadata": {
        "id": "d5dc66e3"
      },
      "source": [
        "**Reasoning**:\n",
        "Instantiate the adapter and call its method to demonstrate the client interaction.\n",
        "\n"
      ]
    },
    {
      "cell_type": "code",
      "metadata": {
        "colab": {
          "base_uri": "https://localhost:8080/"
        },
        "id": "56a71d02",
        "outputId": "1c167cd6-8d3f-425f-bfee-fbde01c62be2"
      },
      "source": [
        "adapter = XmlToJsonAdapter()\n",
        "json_data = adapter.get_json_data()\n",
        "print(\"Client received JSON data:\")\n",
        "print(json_data)"
      ],
      "execution_count": null,
      "outputs": [
        {
          "output_type": "stream",
          "name": "stdout",
          "text": [
            "Received XML data: <data><item>item1</item><item>item2</item></data>\n",
            "\n",
            "Client received JSON data:\n",
            "{\"data\": [\"item1\", \"item2\"]}\n"
          ]
        }
      ]
    }
  ]
}